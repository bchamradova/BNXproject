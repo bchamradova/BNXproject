{
 "cells": [
  {
   "cell_type": "code",
   "execution_count": null,
   "metadata": {
    "collapsed": true,
    "pycharm": {
     "name": "#%%\n"
    },
    "id": "GH_P28FejKPT"
   },
   "outputs": [],
   "source": [
    "import pandas as pd\n",
    "import numpy as np\n",
    "import seaborn as sns\n",
    "import matplotlib.pyplot as plt"
   ]
  },
  {
   "cell_type": "code",
   "source": [
    "from google.colab import drive\n",
    "drive.mount('/content/drive', force_remount=True)"
   ],
   "metadata": {
    "colab": {
     "base_uri": "https://localhost:8080/"
    },
    "id": "oLtYj5CJj8cd",
    "outputId": "ad142e73-1bcf-471c-be07-e9ff53870649",
    "pycharm": {
     "name": "#%%\n"
    }
   },
   "execution_count": null,
   "outputs": [
    {
     "output_type": "stream",
     "name": "stdout",
     "text": [
      "Mounted at /content/drive\n"
     ]
    }
   ]
  },
  {
   "cell_type": "code",
   "execution_count": null,
   "outputs": [
    {
     "output_type": "execute_result",
     "data": {
      "text/plain": [
       "          x        y  fov  avg_intensity  avg_snr  length  marks_count  scan  \\\n",
       "0       268  2508800    2        2009.81  145.693  669375          136     1   \n",
       "1       220  3252224    2        1494.64  104.030  667125          124     1   \n",
       "2       513  1499136    3        2448.80  132.410  729000          123     1   \n",
       "3       936   540672    2        8006.42  534.670  513000          117     1   \n",
       "4       262  3389440    2        2011.06  123.500  662625          115     1   \n",
       "...     ...      ...  ...            ...      ...     ...          ...   ...   \n",
       "142866  389  1794048    3         277.42   16.470   15000            0     1   \n",
       "142867  546  1331200    3         261.07   15.500   15000            0     1   \n",
       "142868  691  4048896    2        8217.29  614.260   15000            0     1   \n",
       "142869  330   188416    3         492.15   29.220   15000            0     1   \n",
       "142870  801  3674112    2         306.58   21.310   15000            0     1   \n",
       "\n",
       "        run  column  \n",
       "0         1      21  \n",
       "1         1      16  \n",
       "2         1       2  \n",
       "3         1      12  \n",
       "4         1       2  \n",
       "...     ...     ...  \n",
       "142866    8      85  \n",
       "142867    8      85  \n",
       "142868    8     137  \n",
       "142869    8      85  \n",
       "142870    8     107  \n",
       "\n",
       "[142871 rows x 10 columns]"
      ],
      "text/html": [
       "\n",
       "  <div id=\"df-9ba91a70-929b-43e2-9dfd-daa7981fa691\">\n",
       "    <div class=\"colab-df-container\">\n",
       "      <div>\n",
       "<style scoped>\n",
       "    .dataframe tbody tr th:only-of-type {\n",
       "        vertical-align: middle;\n",
       "    }\n",
       "\n",
       "    .dataframe tbody tr th {\n",
       "        vertical-align: top;\n",
       "    }\n",
       "\n",
       "    .dataframe thead th {\n",
       "        text-align: right;\n",
       "    }\n",
       "</style>\n",
       "<table border=\"1\" class=\"dataframe\">\n",
       "  <thead>\n",
       "    <tr style=\"text-align: right;\">\n",
       "      <th></th>\n",
       "      <th>x</th>\n",
       "      <th>y</th>\n",
       "      <th>fov</th>\n",
       "      <th>avg_intensity</th>\n",
       "      <th>avg_snr</th>\n",
       "      <th>length</th>\n",
       "      <th>marks_count</th>\n",
       "      <th>scan</th>\n",
       "      <th>run</th>\n",
       "      <th>column</th>\n",
       "    </tr>\n",
       "  </thead>\n",
       "  <tbody>\n",
       "    <tr>\n",
       "      <th>0</th>\n",
       "      <td>268</td>\n",
       "      <td>2508800</td>\n",
       "      <td>2</td>\n",
       "      <td>2009.81</td>\n",
       "      <td>145.693</td>\n",
       "      <td>669375</td>\n",
       "      <td>136</td>\n",
       "      <td>1</td>\n",
       "      <td>1</td>\n",
       "      <td>21</td>\n",
       "    </tr>\n",
       "    <tr>\n",
       "      <th>1</th>\n",
       "      <td>220</td>\n",
       "      <td>3252224</td>\n",
       "      <td>2</td>\n",
       "      <td>1494.64</td>\n",
       "      <td>104.030</td>\n",
       "      <td>667125</td>\n",
       "      <td>124</td>\n",
       "      <td>1</td>\n",
       "      <td>1</td>\n",
       "      <td>16</td>\n",
       "    </tr>\n",
       "    <tr>\n",
       "      <th>2</th>\n",
       "      <td>513</td>\n",
       "      <td>1499136</td>\n",
       "      <td>3</td>\n",
       "      <td>2448.80</td>\n",
       "      <td>132.410</td>\n",
       "      <td>729000</td>\n",
       "      <td>123</td>\n",
       "      <td>1</td>\n",
       "      <td>1</td>\n",
       "      <td>2</td>\n",
       "    </tr>\n",
       "    <tr>\n",
       "      <th>3</th>\n",
       "      <td>936</td>\n",
       "      <td>540672</td>\n",
       "      <td>2</td>\n",
       "      <td>8006.42</td>\n",
       "      <td>534.670</td>\n",
       "      <td>513000</td>\n",
       "      <td>117</td>\n",
       "      <td>1</td>\n",
       "      <td>1</td>\n",
       "      <td>12</td>\n",
       "    </tr>\n",
       "    <tr>\n",
       "      <th>4</th>\n",
       "      <td>262</td>\n",
       "      <td>3389440</td>\n",
       "      <td>2</td>\n",
       "      <td>2011.06</td>\n",
       "      <td>123.500</td>\n",
       "      <td>662625</td>\n",
       "      <td>115</td>\n",
       "      <td>1</td>\n",
       "      <td>1</td>\n",
       "      <td>2</td>\n",
       "    </tr>\n",
       "    <tr>\n",
       "      <th>...</th>\n",
       "      <td>...</td>\n",
       "      <td>...</td>\n",
       "      <td>...</td>\n",
       "      <td>...</td>\n",
       "      <td>...</td>\n",
       "      <td>...</td>\n",
       "      <td>...</td>\n",
       "      <td>...</td>\n",
       "      <td>...</td>\n",
       "      <td>...</td>\n",
       "    </tr>\n",
       "    <tr>\n",
       "      <th>142866</th>\n",
       "      <td>389</td>\n",
       "      <td>1794048</td>\n",
       "      <td>3</td>\n",
       "      <td>277.42</td>\n",
       "      <td>16.470</td>\n",
       "      <td>15000</td>\n",
       "      <td>0</td>\n",
       "      <td>1</td>\n",
       "      <td>8</td>\n",
       "      <td>85</td>\n",
       "    </tr>\n",
       "    <tr>\n",
       "      <th>142867</th>\n",
       "      <td>546</td>\n",
       "      <td>1331200</td>\n",
       "      <td>3</td>\n",
       "      <td>261.07</td>\n",
       "      <td>15.500</td>\n",
       "      <td>15000</td>\n",
       "      <td>0</td>\n",
       "      <td>1</td>\n",
       "      <td>8</td>\n",
       "      <td>85</td>\n",
       "    </tr>\n",
       "    <tr>\n",
       "      <th>142868</th>\n",
       "      <td>691</td>\n",
       "      <td>4048896</td>\n",
       "      <td>2</td>\n",
       "      <td>8217.29</td>\n",
       "      <td>614.260</td>\n",
       "      <td>15000</td>\n",
       "      <td>0</td>\n",
       "      <td>1</td>\n",
       "      <td>8</td>\n",
       "      <td>137</td>\n",
       "    </tr>\n",
       "    <tr>\n",
       "      <th>142869</th>\n",
       "      <td>330</td>\n",
       "      <td>188416</td>\n",
       "      <td>3</td>\n",
       "      <td>492.15</td>\n",
       "      <td>29.220</td>\n",
       "      <td>15000</td>\n",
       "      <td>0</td>\n",
       "      <td>1</td>\n",
       "      <td>8</td>\n",
       "      <td>85</td>\n",
       "    </tr>\n",
       "    <tr>\n",
       "      <th>142870</th>\n",
       "      <td>801</td>\n",
       "      <td>3674112</td>\n",
       "      <td>2</td>\n",
       "      <td>306.58</td>\n",
       "      <td>21.310</td>\n",
       "      <td>15000</td>\n",
       "      <td>0</td>\n",
       "      <td>1</td>\n",
       "      <td>8</td>\n",
       "      <td>107</td>\n",
       "    </tr>\n",
       "  </tbody>\n",
       "</table>\n",
       "<p>142871 rows × 10 columns</p>\n",
       "</div>\n",
       "      <button class=\"colab-df-convert\" onclick=\"convertToInteractive('df-9ba91a70-929b-43e2-9dfd-daa7981fa691')\"\n",
       "              title=\"Convert this dataframe to an interactive table.\"\n",
       "              style=\"display:none;\">\n",
       "        \n",
       "  <svg xmlns=\"http://www.w3.org/2000/svg\" height=\"24px\"viewBox=\"0 0 24 24\"\n",
       "       width=\"24px\">\n",
       "    <path d=\"M0 0h24v24H0V0z\" fill=\"none\"/>\n",
       "    <path d=\"M18.56 5.44l.94 2.06.94-2.06 2.06-.94-2.06-.94-.94-2.06-.94 2.06-2.06.94zm-11 1L8.5 8.5l.94-2.06 2.06-.94-2.06-.94L8.5 2.5l-.94 2.06-2.06.94zm10 10l.94 2.06.94-2.06 2.06-.94-2.06-.94-.94-2.06-.94 2.06-2.06.94z\"/><path d=\"M17.41 7.96l-1.37-1.37c-.4-.4-.92-.59-1.43-.59-.52 0-1.04.2-1.43.59L10.3 9.45l-7.72 7.72c-.78.78-.78 2.05 0 2.83L4 21.41c.39.39.9.59 1.41.59.51 0 1.02-.2 1.41-.59l7.78-7.78 2.81-2.81c.8-.78.8-2.07 0-2.86zM5.41 20L4 18.59l7.72-7.72 1.47 1.35L5.41 20z\"/>\n",
       "  </svg>\n",
       "      </button>\n",
       "      \n",
       "  <style>\n",
       "    .colab-df-container {\n",
       "      display:flex;\n",
       "      flex-wrap:wrap;\n",
       "      gap: 12px;\n",
       "    }\n",
       "\n",
       "    .colab-df-convert {\n",
       "      background-color: #E8F0FE;\n",
       "      border: none;\n",
       "      border-radius: 50%;\n",
       "      cursor: pointer;\n",
       "      display: none;\n",
       "      fill: #1967D2;\n",
       "      height: 32px;\n",
       "      padding: 0 0 0 0;\n",
       "      width: 32px;\n",
       "    }\n",
       "\n",
       "    .colab-df-convert:hover {\n",
       "      background-color: #E2EBFA;\n",
       "      box-shadow: 0px 1px 2px rgba(60, 64, 67, 0.3), 0px 1px 3px 1px rgba(60, 64, 67, 0.15);\n",
       "      fill: #174EA6;\n",
       "    }\n",
       "\n",
       "    [theme=dark] .colab-df-convert {\n",
       "      background-color: #3B4455;\n",
       "      fill: #D2E3FC;\n",
       "    }\n",
       "\n",
       "    [theme=dark] .colab-df-convert:hover {\n",
       "      background-color: #434B5C;\n",
       "      box-shadow: 0px 1px 3px 1px rgba(0, 0, 0, 0.15);\n",
       "      filter: drop-shadow(0px 1px 2px rgba(0, 0, 0, 0.3));\n",
       "      fill: #FFFFFF;\n",
       "    }\n",
       "  </style>\n",
       "\n",
       "      <script>\n",
       "        const buttonEl =\n",
       "          document.querySelector('#df-9ba91a70-929b-43e2-9dfd-daa7981fa691 button.colab-df-convert');\n",
       "        buttonEl.style.display =\n",
       "          google.colab.kernel.accessAllowed ? 'block' : 'none';\n",
       "\n",
       "        async function convertToInteractive(key) {\n",
       "          const element = document.querySelector('#df-9ba91a70-929b-43e2-9dfd-daa7981fa691');\n",
       "          const dataTable =\n",
       "            await google.colab.kernel.invokeFunction('convertToInteractive',\n",
       "                                                     [key], {});\n",
       "          if (!dataTable) return;\n",
       "\n",
       "          const docLinkHtml = 'Like what you see? Visit the ' +\n",
       "            '<a target=\"_blank\" href=https://colab.research.google.com/notebooks/data_table.ipynb>data table notebook</a>'\n",
       "            + ' to learn more about interactive tables.';\n",
       "          element.innerHTML = '';\n",
       "          dataTable['output_type'] = 'display_data';\n",
       "          await google.colab.output.renderOutput(dataTable, element);\n",
       "          const docLink = document.createElement('div');\n",
       "          docLink.innerHTML = docLinkHtml;\n",
       "          element.appendChild(docLink);\n",
       "        }\n",
       "      </script>\n",
       "    </div>\n",
       "  </div>\n",
       "  "
      ]
     },
     "metadata": {},
     "execution_count": 3
    }
   ],
   "source": [
    "df=pd.read_csv('/content/drive/MyDrive/Colab Notebooks/diplomka/bnxEA_scan1.csv')\n",
    "df.drop(columns=df.columns[0], inplace=True, axis=1)\n",
    "df"
   ],
   "metadata": {
    "pycharm": {
     "name": "#%%\n"
    },
    "colab": {
     "base_uri": "https://localhost:8080/",
     "height": 423
    },
    "id": "y0hv2LHpjKPX",
    "outputId": "f9a5bc8d-9bcc-44ff-f7b0-9f8ad2deaa92"
   }
  },
  {
   "cell_type": "code",
   "source": [
    "df['length'].describe()"
   ],
   "metadata": {
    "colab": {
     "base_uri": "https://localhost:8080/"
    },
    "id": "kyjw7bL_WCLz",
    "outputId": "7623f1d2-0607-4539-d76f-d5f352def97a",
    "pycharm": {
     "name": "#%%\n"
    }
   },
   "execution_count": null,
   "outputs": [
    {
     "output_type": "execute_result",
     "data": {
      "text/plain": [
       "count    142871.000000\n",
       "mean     103543.276291\n",
       "std       79013.445174\n",
       "min       15000.000000\n",
       "25%       41250.000000\n",
       "50%       82125.000000\n",
       "75%      145500.000000\n",
       "max      843750.000000\n",
       "Name: length, dtype: float64"
      ]
     },
     "metadata": {},
     "execution_count": 4
    }
   ]
  },
  {
   "cell_type": "code",
   "source": [
    "df.loc[(df['run'] == 7) & (df['column'] == 1)] #bank 4 column 1 (testovaci pro molekuly)"
   ],
   "metadata": {
    "colab": {
     "base_uri": "https://localhost:8080/",
     "height": 423
    },
    "id": "2JDwrnLvWt5Q",
    "outputId": "100fdf36-16c8-4c76-e6ae-0a7ba05d04a9",
    "pycharm": {
     "name": "#%%\n"
    }
   },
   "execution_count": null,
   "outputs": [
    {
     "output_type": "execute_result",
     "data": {
      "text/plain": [
       "          x         y  fov  avg_intensity  avg_snr  length  marks_count  scan  \\\n",
       "104928  871   3852288    2        1594.64    91.78  210375           50     1   \n",
       "105334  769   5898240    3        1165.47    69.42  250875           41     1   \n",
       "105427  586   6936576    4        2052.80   124.63  202500           40     1   \n",
       "105717  714   6553600    3        1383.02    82.38  229125           36     1   \n",
       "105746  831   1953792    3        1288.64    76.76  207750           36     1   \n",
       "...     ...       ...  ...            ...      ...     ...          ...   ...   \n",
       "116150  514   1677312    4        1944.07   118.03   27375            1     1   \n",
       "116611  959   1310720    2        1099.09    63.26   83250            0     1   \n",
       "116872  916  11096064    4         733.21    44.51   35250            0     1   \n",
       "117160  838   8183808    4        1243.05    75.47   25875            0     1   \n",
       "117747  916  10752000    4        1546.73    93.90   18000            0     1   \n",
       "\n",
       "        run  column  \n",
       "104928    7       1  \n",
       "105334    7       1  \n",
       "105427    7       1  \n",
       "105717    7       1  \n",
       "105746    7       1  \n",
       "...     ...     ...  \n",
       "116150    7       1  \n",
       "116611    7       1  \n",
       "116872    7       1  \n",
       "117160    7       1  \n",
       "117747    7       1  \n",
       "\n",
       "[64 rows x 10 columns]"
      ],
      "text/html": [
       "\n",
       "  <div id=\"df-1f6ef715-136c-4f7c-b880-e072b434fb26\">\n",
       "    <div class=\"colab-df-container\">\n",
       "      <div>\n",
       "<style scoped>\n",
       "    .dataframe tbody tr th:only-of-type {\n",
       "        vertical-align: middle;\n",
       "    }\n",
       "\n",
       "    .dataframe tbody tr th {\n",
       "        vertical-align: top;\n",
       "    }\n",
       "\n",
       "    .dataframe thead th {\n",
       "        text-align: right;\n",
       "    }\n",
       "</style>\n",
       "<table border=\"1\" class=\"dataframe\">\n",
       "  <thead>\n",
       "    <tr style=\"text-align: right;\">\n",
       "      <th></th>\n",
       "      <th>x</th>\n",
       "      <th>y</th>\n",
       "      <th>fov</th>\n",
       "      <th>avg_intensity</th>\n",
       "      <th>avg_snr</th>\n",
       "      <th>length</th>\n",
       "      <th>marks_count</th>\n",
       "      <th>scan</th>\n",
       "      <th>run</th>\n",
       "      <th>column</th>\n",
       "    </tr>\n",
       "  </thead>\n",
       "  <tbody>\n",
       "    <tr>\n",
       "      <th>104928</th>\n",
       "      <td>871</td>\n",
       "      <td>3852288</td>\n",
       "      <td>2</td>\n",
       "      <td>1594.64</td>\n",
       "      <td>91.78</td>\n",
       "      <td>210375</td>\n",
       "      <td>50</td>\n",
       "      <td>1</td>\n",
       "      <td>7</td>\n",
       "      <td>1</td>\n",
       "    </tr>\n",
       "    <tr>\n",
       "      <th>105334</th>\n",
       "      <td>769</td>\n",
       "      <td>5898240</td>\n",
       "      <td>3</td>\n",
       "      <td>1165.47</td>\n",
       "      <td>69.42</td>\n",
       "      <td>250875</td>\n",
       "      <td>41</td>\n",
       "      <td>1</td>\n",
       "      <td>7</td>\n",
       "      <td>1</td>\n",
       "    </tr>\n",
       "    <tr>\n",
       "      <th>105427</th>\n",
       "      <td>586</td>\n",
       "      <td>6936576</td>\n",
       "      <td>4</td>\n",
       "      <td>2052.80</td>\n",
       "      <td>124.63</td>\n",
       "      <td>202500</td>\n",
       "      <td>40</td>\n",
       "      <td>1</td>\n",
       "      <td>7</td>\n",
       "      <td>1</td>\n",
       "    </tr>\n",
       "    <tr>\n",
       "      <th>105717</th>\n",
       "      <td>714</td>\n",
       "      <td>6553600</td>\n",
       "      <td>3</td>\n",
       "      <td>1383.02</td>\n",
       "      <td>82.38</td>\n",
       "      <td>229125</td>\n",
       "      <td>36</td>\n",
       "      <td>1</td>\n",
       "      <td>7</td>\n",
       "      <td>1</td>\n",
       "    </tr>\n",
       "    <tr>\n",
       "      <th>105746</th>\n",
       "      <td>831</td>\n",
       "      <td>1953792</td>\n",
       "      <td>3</td>\n",
       "      <td>1288.64</td>\n",
       "      <td>76.76</td>\n",
       "      <td>207750</td>\n",
       "      <td>36</td>\n",
       "      <td>1</td>\n",
       "      <td>7</td>\n",
       "      <td>1</td>\n",
       "    </tr>\n",
       "    <tr>\n",
       "      <th>...</th>\n",
       "      <td>...</td>\n",
       "      <td>...</td>\n",
       "      <td>...</td>\n",
       "      <td>...</td>\n",
       "      <td>...</td>\n",
       "      <td>...</td>\n",
       "      <td>...</td>\n",
       "      <td>...</td>\n",
       "      <td>...</td>\n",
       "      <td>...</td>\n",
       "    </tr>\n",
       "    <tr>\n",
       "      <th>116150</th>\n",
       "      <td>514</td>\n",
       "      <td>1677312</td>\n",
       "      <td>4</td>\n",
       "      <td>1944.07</td>\n",
       "      <td>118.03</td>\n",
       "      <td>27375</td>\n",
       "      <td>1</td>\n",
       "      <td>1</td>\n",
       "      <td>7</td>\n",
       "      <td>1</td>\n",
       "    </tr>\n",
       "    <tr>\n",
       "      <th>116611</th>\n",
       "      <td>959</td>\n",
       "      <td>1310720</td>\n",
       "      <td>2</td>\n",
       "      <td>1099.09</td>\n",
       "      <td>63.26</td>\n",
       "      <td>83250</td>\n",
       "      <td>0</td>\n",
       "      <td>1</td>\n",
       "      <td>7</td>\n",
       "      <td>1</td>\n",
       "    </tr>\n",
       "    <tr>\n",
       "      <th>116872</th>\n",
       "      <td>916</td>\n",
       "      <td>11096064</td>\n",
       "      <td>4</td>\n",
       "      <td>733.21</td>\n",
       "      <td>44.51</td>\n",
       "      <td>35250</td>\n",
       "      <td>0</td>\n",
       "      <td>1</td>\n",
       "      <td>7</td>\n",
       "      <td>1</td>\n",
       "    </tr>\n",
       "    <tr>\n",
       "      <th>117160</th>\n",
       "      <td>838</td>\n",
       "      <td>8183808</td>\n",
       "      <td>4</td>\n",
       "      <td>1243.05</td>\n",
       "      <td>75.47</td>\n",
       "      <td>25875</td>\n",
       "      <td>0</td>\n",
       "      <td>1</td>\n",
       "      <td>7</td>\n",
       "      <td>1</td>\n",
       "    </tr>\n",
       "    <tr>\n",
       "      <th>117747</th>\n",
       "      <td>916</td>\n",
       "      <td>10752000</td>\n",
       "      <td>4</td>\n",
       "      <td>1546.73</td>\n",
       "      <td>93.90</td>\n",
       "      <td>18000</td>\n",
       "      <td>0</td>\n",
       "      <td>1</td>\n",
       "      <td>7</td>\n",
       "      <td>1</td>\n",
       "    </tr>\n",
       "  </tbody>\n",
       "</table>\n",
       "<p>64 rows × 10 columns</p>\n",
       "</div>\n",
       "      <button class=\"colab-df-convert\" onclick=\"convertToInteractive('df-1f6ef715-136c-4f7c-b880-e072b434fb26')\"\n",
       "              title=\"Convert this dataframe to an interactive table.\"\n",
       "              style=\"display:none;\">\n",
       "        \n",
       "  <svg xmlns=\"http://www.w3.org/2000/svg\" height=\"24px\"viewBox=\"0 0 24 24\"\n",
       "       width=\"24px\">\n",
       "    <path d=\"M0 0h24v24H0V0z\" fill=\"none\"/>\n",
       "    <path d=\"M18.56 5.44l.94 2.06.94-2.06 2.06-.94-2.06-.94-.94-2.06-.94 2.06-2.06.94zm-11 1L8.5 8.5l.94-2.06 2.06-.94-2.06-.94L8.5 2.5l-.94 2.06-2.06.94zm10 10l.94 2.06.94-2.06 2.06-.94-2.06-.94-.94-2.06-.94 2.06-2.06.94z\"/><path d=\"M17.41 7.96l-1.37-1.37c-.4-.4-.92-.59-1.43-.59-.52 0-1.04.2-1.43.59L10.3 9.45l-7.72 7.72c-.78.78-.78 2.05 0 2.83L4 21.41c.39.39.9.59 1.41.59.51 0 1.02-.2 1.41-.59l7.78-7.78 2.81-2.81c.8-.78.8-2.07 0-2.86zM5.41 20L4 18.59l7.72-7.72 1.47 1.35L5.41 20z\"/>\n",
       "  </svg>\n",
       "      </button>\n",
       "      \n",
       "  <style>\n",
       "    .colab-df-container {\n",
       "      display:flex;\n",
       "      flex-wrap:wrap;\n",
       "      gap: 12px;\n",
       "    }\n",
       "\n",
       "    .colab-df-convert {\n",
       "      background-color: #E8F0FE;\n",
       "      border: none;\n",
       "      border-radius: 50%;\n",
       "      cursor: pointer;\n",
       "      display: none;\n",
       "      fill: #1967D2;\n",
       "      height: 32px;\n",
       "      padding: 0 0 0 0;\n",
       "      width: 32px;\n",
       "    }\n",
       "\n",
       "    .colab-df-convert:hover {\n",
       "      background-color: #E2EBFA;\n",
       "      box-shadow: 0px 1px 2px rgba(60, 64, 67, 0.3), 0px 1px 3px 1px rgba(60, 64, 67, 0.15);\n",
       "      fill: #174EA6;\n",
       "    }\n",
       "\n",
       "    [theme=dark] .colab-df-convert {\n",
       "      background-color: #3B4455;\n",
       "      fill: #D2E3FC;\n",
       "    }\n",
       "\n",
       "    [theme=dark] .colab-df-convert:hover {\n",
       "      background-color: #434B5C;\n",
       "      box-shadow: 0px 1px 3px 1px rgba(0, 0, 0, 0.15);\n",
       "      filter: drop-shadow(0px 1px 2px rgba(0, 0, 0, 0.3));\n",
       "      fill: #FFFFFF;\n",
       "    }\n",
       "  </style>\n",
       "\n",
       "      <script>\n",
       "        const buttonEl =\n",
       "          document.querySelector('#df-1f6ef715-136c-4f7c-b880-e072b434fb26 button.colab-df-convert');\n",
       "        buttonEl.style.display =\n",
       "          google.colab.kernel.accessAllowed ? 'block' : 'none';\n",
       "\n",
       "        async function convertToInteractive(key) {\n",
       "          const element = document.querySelector('#df-1f6ef715-136c-4f7c-b880-e072b434fb26');\n",
       "          const dataTable =\n",
       "            await google.colab.kernel.invokeFunction('convertToInteractive',\n",
       "                                                     [key], {});\n",
       "          if (!dataTable) return;\n",
       "\n",
       "          const docLinkHtml = 'Like what you see? Visit the ' +\n",
       "            '<a target=\"_blank\" href=https://colab.research.google.com/notebooks/data_table.ipynb>data table notebook</a>'\n",
       "            + ' to learn more about interactive tables.';\n",
       "          element.innerHTML = '';\n",
       "          dataTable['output_type'] = 'display_data';\n",
       "          await google.colab.output.renderOutput(dataTable, element);\n",
       "          const docLink = document.createElement('div');\n",
       "          docLink.innerHTML = docLinkHtml;\n",
       "          element.appendChild(docLink);\n",
       "        }\n",
       "      </script>\n",
       "    </div>\n",
       "  </div>\n",
       "  "
      ]
     },
     "metadata": {},
     "execution_count": 5
    }
   ]
  },
  {
   "cell_type": "code",
   "source": [
    "print(df['avg_intensity'].describe())\n",
    "print(df['marks_count'].describe())\n",
    "print(df.loc[df['marks_count'] == 0].count())"
   ],
   "metadata": {
    "colab": {
     "base_uri": "https://localhost:8080/"
    },
    "id": "StYo8sRwyjER",
    "outputId": "3564c3e9-841f-4cd7-b603-88e6679f0e5c",
    "pycharm": {
     "name": "#%%\n"
    }
   },
   "execution_count": null,
   "outputs": [
    {
     "output_type": "stream",
     "name": "stdout",
     "text": [
      "count    142871.000000\n",
      "mean       1753.154968\n",
      "std         985.119548\n",
      "min          56.220000\n",
      "25%        1412.885000\n",
      "50%        1691.170000\n",
      "75%        1957.895000\n",
      "max       43028.410000\n",
      "Name: avg_intensity, dtype: float64\n",
      "count    142871.000000\n",
      "mean         14.669723\n",
      "std          13.658029\n",
      "min           0.000000\n",
      "25%           4.000000\n",
      "50%          11.000000\n",
      "75%          22.000000\n",
      "max         220.000000\n",
      "Name: marks_count, dtype: float64\n",
      "x                11630\n",
      "y                11630\n",
      "fov              11630\n",
      "avg_intensity    11630\n",
      "avg_snr          11630\n",
      "length           11630\n",
      "marks_count      11630\n",
      "scan             11630\n",
      "run              11630\n",
      "column           11630\n",
      "dtype: int64\n"
     ]
    }
   ]
  },
  {
   "cell_type": "code",
   "source": [
    "sns.histplot(df, x='marks_count', hue='fov')"
   ],
   "metadata": {
    "colab": {
     "base_uri": "https://localhost:8080/",
     "height": 300
    },
    "id": "BQwTuPfjqlBJ",
    "outputId": "d615b9c4-0b95-4eb4-d420-cb6613d2fa61",
    "pycharm": {
     "name": "#%%\n"
    }
   },
   "execution_count": null,
   "outputs": [
    {
     "output_type": "execute_result",
     "data": {
      "text/plain": [
       "<matplotlib.axes._subplots.AxesSubplot at 0x7f9a56692a00>"
      ]
     },
     "metadata": {},
     "execution_count": 6
    },
    {
     "output_type": "display_data",
     "data": {
      "text/plain": [
       "<Figure size 432x288 with 1 Axes>"
      ],
      "image/png": "[encoded data removed]"
     },
     "metadata": {
      "needs_background": "light"
     }
    }
   ]
  },
  {
   "cell_type": "code",
   "source": [
    "sns.boxplot(x='fov', y='marks_count',data=df)"
   ],
   "metadata": {
    "colab": {
     "base_uri": "https://localhost:8080/",
     "height": 296
    },
    "id": "1PtYO9QesCxf",
    "outputId": "bb2075d1-d1a6-4dbf-ca96-f33c47b8d814",
    "pycharm": {
     "name": "#%%\n"
    }
   },
   "execution_count": null,
   "outputs": [
    {
     "output_type": "execute_result",
     "data": {
      "text/plain": [
       "<matplotlib.axes._subplots.AxesSubplot at 0x7f9a562a9310>"
      ]
     },
     "metadata": {},
     "execution_count": 7
    },
    {
     "output_type": "display_data",
     "data": {
      "text/plain": [
       "<Figure size 432x288 with 1 Axes>"
      ],
      "image/png": "[encoded data removed]"
     },
     "metadata": {
      "needs_background": "light"
     }
    }
   ]
  },
  {
   "cell_type": "code",
   "source": [
    "plt.figure(figsize=(12, 8))\n",
    "gfg = sns.violinplot(x='fov', y='avg_intensity',data=df,showfliers=False)\n",
    "gfg.set(xlabel =\"FOV\", ylabel = \"Průměrná intenzita molekuly\")\n",
    "plt.show()\n",
    "plt.figure(figsize=(12, 8))\n",
    "gfg = sns.boxplot(x='run', y='avg_intensity',data=df, showfliers=False)\n",
    "gfg.set(xlabel =\"Číslo běhu\", ylabel = \"Průměrná intenzita molekuly\")\n",
    "plt.show()\n",
    "plt.figure(figsize=(12, 8))\n",
    "gfg = sns.boxplot(x='column', y='avg_intensity',data=df.loc[(df['column'] % 15 == 0) | (df['column'] == 1) | (df['column'] == 137)], showfliers=False)\n",
    "gfg.set(xlabel =\"Číslo sloupce\", ylabel = \"Průměrná intenzita molekuly\")\n",
    "plt.show()"
   ],
   "metadata": {
    "colab": {
     "base_uri": "https://localhost:8080/",
     "height": 1000
    },
    "id": "iFz7jaPJsjqo",
    "outputId": "704e413b-40cb-4459-b5b4-dc715df85b46",
    "pycharm": {
     "name": "#%%\n"
    }
   },
   "execution_count": null,
   "outputs": [
    {
     "output_type": "display_data",
     "data": {
      "text/plain": [
       "<Figure size 864x576 with 1 Axes>"
      ],
      "image/png": "[encoded data removed]"
     },
     "metadata": {
      "needs_background": "light"
     }
    },
    {
     "output_type": "display_data",
     "data": {
      "text/plain": [
       "<Figure size 864x576 with 1 Axes>"
      ],
      "image/png": "[encoded data removed]"
     },
     "metadata": {
      "needs_background": "light"
     }
    },
    {
     "output_type": "display_data",
     "data": {
      "text/plain": [
       "<Figure size 864x576 with 1 Axes>"
      ],
      "image/png": "[encoded data removed]"
     },
     "metadata": {
      "needs_background": "light"
     }
    }
   ]
  },
  {
   "cell_type": "code",
   "source": [
    "sns.boxplot(x='fov', y='avg_snr',data=df)"
   ],
   "metadata": {
    "colab": {
     "base_uri": "https://localhost:8080/",
     "height": 296
    },
    "id": "emL7cKDts6Cp",
    "outputId": "f0428f91-37ea-491e-b48c-c2d322e0f304",
    "pycharm": {
     "name": "#%%\n"
    }
   },
   "execution_count": null,
   "outputs": [
    {
     "output_type": "execute_result",
     "data": {
      "text/plain": [
       "<matplotlib.axes._subplots.AxesSubplot at 0x7f8285b32e50>"
      ]
     },
     "metadata": {},
     "execution_count": 17
    },
    {
     "output_type": "display_data",
     "data": {
      "text/plain": [
       "<Figure size 432x288 with 1 Axes>"
      ],
      "image/png": "[encoded data removed]"
     },
     "metadata": {
      "needs_background": "light"
     }
    }
   ]
  },
  {
   "cell_type": "code",
   "source": [
    "sns.countplot(data=df, x='fov')\n",
    "plt.show()\n",
    "sns.countplot(data=df, x='column')\n",
    "plt.show()\n",
    "sns.countplot(data=df, x='run')\n",
    "plt.show()"
   ],
   "metadata": {
    "colab": {
     "base_uri": "https://localhost:8080/",
     "height": 803
    },
    "id": "hTlxn4uRtE5s",
    "outputId": "8715ad83-07a8-4836-a2b8-2d531a47ad21",
    "pycharm": {
     "name": "#%%\n"
    }
   },
   "execution_count": null,
   "outputs": [
    {
     "output_type": "display_data",
     "data": {
      "text/plain": [
       "<Figure size 432x288 with 1 Axes>"
      ],
      "image/png": "[encoded data removed]"
     },
     "metadata": {
      "needs_background": "light"
     }
    },
    {
     "output_type": "display_data",
     "data": {
      "text/plain": [
       "<Figure size 432x288 with 1 Axes>"
      ],
      "image/png": "[encoded data removed]"
     },
     "metadata": {
      "needs_background": "light"
     }
    },
    {
     "output_type": "display_data",
     "data": {
      "text/plain": [
       "<Figure size 432x288 with 1 Axes>"
      ],
      "image/png": "[encoded data removed]"
     },
     "metadata": {
      "needs_background": "light"
     }
    }
   ]
  },
  {
   "cell_type": "code",
   "source": [
    "sns.heatmap(df.corr())"
   ],
   "metadata": {
    "colab": {
     "base_uri": "https://localhost:8080/",
     "height": 343
    },
    "id": "muMaTiuCtcOa",
    "outputId": "de9fbf1f-820c-4a48-bac9-163306cdd1e3",
    "pycharm": {
     "name": "#%%\n"
    }
   },
   "execution_count": null,
   "outputs": [
    {
     "output_type": "execute_result",
     "data": {
      "text/plain": [
       "<matplotlib.axes._subplots.AxesSubplot at 0x7f8285a8c400>"
      ]
     },
     "metadata": {},
     "execution_count": 19
    },
    {
     "output_type": "display_data",
     "data": {
      "text/plain": [
       "<Figure size 432x288 with 2 Axes>"
      ],
      "image/png": "[encoded data removed]"
     },
     "metadata": {
      "needs_background": "light"
     }
    }
   ]
  },
  {
   "cell_type": "code",
   "source": [
    "df=pd.read_csv('/content/drive/MyDrive/Colab Notebooks/diplomka/bnxMarksEA_scan1.csv')\n",
    "df.drop(columns=df.columns[0], inplace=True, axis=1)\n",
    "df\n",
    "df15=pd.read_csv('/content/drive/MyDrive/Colab Notebooks/diplomka/bnxMarksEA_scan15.csv')\n",
    "df15.drop(columns=df15.columns[0], inplace=True, axis=1)\n",
    "df15"
   ],
   "metadata": {
    "colab": {
     "base_uri": "https://localhost:8080/",
     "height": 423
    },
    "id": "tg93SOmoApXX",
    "outputId": "96f918f1-65d7-425d-dd27-40391ac51a76",
    "pycharm": {
     "name": "#%%\n"
    }
   },
   "execution_count": null,
   "outputs": [
    {
     "output_type": "execute_result",
     "data": {
      "text/plain": [
       "         intensity       snr    x        y  fov  avg_intensity  avg_snr  \\\n",
       "0           519.97  54.07925  532  3041280    2        1290.33  76.1386   \n",
       "1           340.30  35.39275  532  3041280    2        1290.33  76.1386   \n",
       "2           245.42  25.52480  532  3041280    2        1290.33  76.1386   \n",
       "3           676.53  70.36221  532  3041280    2        1290.33  76.1386   \n",
       "4           403.57  41.97312  532  3041280    2        1290.33  76.1386   \n",
       "...            ...       ...  ...      ...  ...            ...      ...   \n",
       "5771382     127.05  14.20453  313  4052992    2        1260.63  70.0200   \n",
       "5771383     168.24  18.07819  180  6209536    3        2488.48  88.7100   \n",
       "5771384     234.68  24.17922  362  3956736    3        1943.03  49.0900   \n",
       "5771385     197.63  21.16030  433   743424    4        1325.89  70.1600   \n",
       "5771386     189.05  20.24757  664  7225344    3        1564.56  47.3000   \n",
       "\n",
       "         length  marks_count  scan  run  column  x_diff  \n",
       "0        670125          162    15  113      24       1  \n",
       "1        670125          162    15  113      24       1  \n",
       "2        670125          162    15  113      24       1  \n",
       "3        670125          162    15  113      24       1  \n",
       "4        670125          162    15  113      24       1  \n",
       "...         ...          ...   ...  ...     ...     ...  \n",
       "5771382   15000            1    15  120     104       0  \n",
       "5771383   15000            1    15  120      74       1  \n",
       "5771384   15000            1    15  120     133       1  \n",
       "5771385   15000            1    15  120     129       1  \n",
       "5771386   15000            1    15  120      84       0  \n",
       "\n",
       "[5771387 rows x 13 columns]"
      ],
      "text/html": [
       "\n",
       "  <div id=\"df-6c0449a2-ab92-42ec-88b2-e92cc4d3c539\">\n",
       "    <div class=\"colab-df-container\">\n",
       "      <div>\n",
       "<style scoped>\n",
       "    .dataframe tbody tr th:only-of-type {\n",
       "        vertical-align: middle;\n",
       "    }\n",
       "\n",
       "    .dataframe tbody tr th {\n",
       "        vertical-align: top;\n",
       "    }\n",
       "\n",
       "    .dataframe thead th {\n",
       "        text-align: right;\n",
       "    }\n",
       "</style>\n",
       "<table border=\"1\" class=\"dataframe\">\n",
       "  <thead>\n",
       "    <tr style=\"text-align: right;\">\n",
       "      <th></th>\n",
       "      <th>intensity</th>\n",
       "      <th>snr</th>\n",
       "      <th>x</th>\n",
       "      <th>y</th>\n",
       "      <th>fov</th>\n",
       "      <th>avg_intensity</th>\n",
       "      <th>avg_snr</th>\n",
       "      <th>length</th>\n",
       "      <th>marks_count</th>\n",
       "      <th>scan</th>\n",
       "      <th>run</th>\n",
       "      <th>column</th>\n",
       "      <th>x_diff</th>\n",
       "    </tr>\n",
       "  </thead>\n",
       "  <tbody>\n",
       "    <tr>\n",
       "      <th>0</th>\n",
       "      <td>519.97</td>\n",
       "      <td>54.07925</td>\n",
       "      <td>532</td>\n",
       "      <td>3041280</td>\n",
       "      <td>2</td>\n",
       "      <td>1290.33</td>\n",
       "      <td>76.1386</td>\n",
       "      <td>670125</td>\n",
       "      <td>162</td>\n",
       "      <td>15</td>\n",
       "      <td>113</td>\n",
       "      <td>24</td>\n",
       "      <td>1</td>\n",
       "    </tr>\n",
       "    <tr>\n",
       "      <th>1</th>\n",
       "      <td>340.30</td>\n",
       "      <td>35.39275</td>\n",
       "      <td>532</td>\n",
       "      <td>3041280</td>\n",
       "      <td>2</td>\n",
       "      <td>1290.33</td>\n",
       "      <td>76.1386</td>\n",
       "      <td>670125</td>\n",
       "      <td>162</td>\n",
       "      <td>15</td>\n",
       "      <td>113</td>\n",
       "      <td>24</td>\n",
       "      <td>1</td>\n",
       "    </tr>\n",
       "    <tr>\n",
       "      <th>2</th>\n",
       "      <td>245.42</td>\n",
       "      <td>25.52480</td>\n",
       "      <td>532</td>\n",
       "      <td>3041280</td>\n",
       "      <td>2</td>\n",
       "      <td>1290.33</td>\n",
       "      <td>76.1386</td>\n",
       "      <td>670125</td>\n",
       "      <td>162</td>\n",
       "      <td>15</td>\n",
       "      <td>113</td>\n",
       "      <td>24</td>\n",
       "      <td>1</td>\n",
       "    </tr>\n",
       "    <tr>\n",
       "      <th>3</th>\n",
       "      <td>676.53</td>\n",
       "      <td>70.36221</td>\n",
       "      <td>532</td>\n",
       "      <td>3041280</td>\n",
       "      <td>2</td>\n",
       "      <td>1290.33</td>\n",
       "      <td>76.1386</td>\n",
       "      <td>670125</td>\n",
       "      <td>162</td>\n",
       "      <td>15</td>\n",
       "      <td>113</td>\n",
       "      <td>24</td>\n",
       "      <td>1</td>\n",
       "    </tr>\n",
       "    <tr>\n",
       "      <th>4</th>\n",
       "      <td>403.57</td>\n",
       "      <td>41.97312</td>\n",
       "      <td>532</td>\n",
       "      <td>3041280</td>\n",
       "      <td>2</td>\n",
       "      <td>1290.33</td>\n",
       "      <td>76.1386</td>\n",
       "      <td>670125</td>\n",
       "      <td>162</td>\n",
       "      <td>15</td>\n",
       "      <td>113</td>\n",
       "      <td>24</td>\n",
       "      <td>1</td>\n",
       "    </tr>\n",
       "    <tr>\n",
       "      <th>...</th>\n",
       "      <td>...</td>\n",
       "      <td>...</td>\n",
       "      <td>...</td>\n",
       "      <td>...</td>\n",
       "      <td>...</td>\n",
       "      <td>...</td>\n",
       "      <td>...</td>\n",
       "      <td>...</td>\n",
       "      <td>...</td>\n",
       "      <td>...</td>\n",
       "      <td>...</td>\n",
       "      <td>...</td>\n",
       "      <td>...</td>\n",
       "    </tr>\n",
       "    <tr>\n",
       "      <th>5771382</th>\n",
       "      <td>127.05</td>\n",
       "      <td>14.20453</td>\n",
       "      <td>313</td>\n",
       "      <td>4052992</td>\n",
       "      <td>2</td>\n",
       "      <td>1260.63</td>\n",
       "      <td>70.0200</td>\n",
       "      <td>15000</td>\n",
       "      <td>1</td>\n",
       "      <td>15</td>\n",
       "      <td>120</td>\n",
       "      <td>104</td>\n",
       "      <td>0</td>\n",
       "    </tr>\n",
       "    <tr>\n",
       "      <th>5771383</th>\n",
       "      <td>168.24</td>\n",
       "      <td>18.07819</td>\n",
       "      <td>180</td>\n",
       "      <td>6209536</td>\n",
       "      <td>3</td>\n",
       "      <td>2488.48</td>\n",
       "      <td>88.7100</td>\n",
       "      <td>15000</td>\n",
       "      <td>1</td>\n",
       "      <td>15</td>\n",
       "      <td>120</td>\n",
       "      <td>74</td>\n",
       "      <td>1</td>\n",
       "    </tr>\n",
       "    <tr>\n",
       "      <th>5771384</th>\n",
       "      <td>234.68</td>\n",
       "      <td>24.17922</td>\n",
       "      <td>362</td>\n",
       "      <td>3956736</td>\n",
       "      <td>3</td>\n",
       "      <td>1943.03</td>\n",
       "      <td>49.0900</td>\n",
       "      <td>15000</td>\n",
       "      <td>1</td>\n",
       "      <td>15</td>\n",
       "      <td>120</td>\n",
       "      <td>133</td>\n",
       "      <td>1</td>\n",
       "    </tr>\n",
       "    <tr>\n",
       "      <th>5771385</th>\n",
       "      <td>197.63</td>\n",
       "      <td>21.16030</td>\n",
       "      <td>433</td>\n",
       "      <td>743424</td>\n",
       "      <td>4</td>\n",
       "      <td>1325.89</td>\n",
       "      <td>70.1600</td>\n",
       "      <td>15000</td>\n",
       "      <td>1</td>\n",
       "      <td>15</td>\n",
       "      <td>120</td>\n",
       "      <td>129</td>\n",
       "      <td>1</td>\n",
       "    </tr>\n",
       "    <tr>\n",
       "      <th>5771386</th>\n",
       "      <td>189.05</td>\n",
       "      <td>20.24757</td>\n",
       "      <td>664</td>\n",
       "      <td>7225344</td>\n",
       "      <td>3</td>\n",
       "      <td>1564.56</td>\n",
       "      <td>47.3000</td>\n",
       "      <td>15000</td>\n",
       "      <td>1</td>\n",
       "      <td>15</td>\n",
       "      <td>120</td>\n",
       "      <td>84</td>\n",
       "      <td>0</td>\n",
       "    </tr>\n",
       "  </tbody>\n",
       "</table>\n",
       "<p>5771387 rows × 13 columns</p>\n",
       "</div>\n",
       "      <button class=\"colab-df-convert\" onclick=\"convertToInteractive('df-6c0449a2-ab92-42ec-88b2-e92cc4d3c539')\"\n",
       "              title=\"Convert this dataframe to an interactive table.\"\n",
       "              style=\"display:none;\">\n",
       "        \n",
       "  <svg xmlns=\"http://www.w3.org/2000/svg\" height=\"24px\"viewBox=\"0 0 24 24\"\n",
       "       width=\"24px\">\n",
       "    <path d=\"M0 0h24v24H0V0z\" fill=\"none\"/>\n",
       "    <path d=\"M18.56 5.44l.94 2.06.94-2.06 2.06-.94-2.06-.94-.94-2.06-.94 2.06-2.06.94zm-11 1L8.5 8.5l.94-2.06 2.06-.94-2.06-.94L8.5 2.5l-.94 2.06-2.06.94zm10 10l.94 2.06.94-2.06 2.06-.94-2.06-.94-.94-2.06-.94 2.06-2.06.94z\"/><path d=\"M17.41 7.96l-1.37-1.37c-.4-.4-.92-.59-1.43-.59-.52 0-1.04.2-1.43.59L10.3 9.45l-7.72 7.72c-.78.78-.78 2.05 0 2.83L4 21.41c.39.39.9.59 1.41.59.51 0 1.02-.2 1.41-.59l7.78-7.78 2.81-2.81c.8-.78.8-2.07 0-2.86zM5.41 20L4 18.59l7.72-7.72 1.47 1.35L5.41 20z\"/>\n",
       "  </svg>\n",
       "      </button>\n",
       "      \n",
       "  <style>\n",
       "    .colab-df-container {\n",
       "      display:flex;\n",
       "      flex-wrap:wrap;\n",
       "      gap: 12px;\n",
       "    }\n",
       "\n",
       "    .colab-df-convert {\n",
       "      background-color: #E8F0FE;\n",
       "      border: none;\n",
       "      border-radius: 50%;\n",
       "      cursor: pointer;\n",
       "      display: none;\n",
       "      fill: #1967D2;\n",
       "      height: 32px;\n",
       "      padding: 0 0 0 0;\n",
       "      width: 32px;\n",
       "    }\n",
       "\n",
       "    .colab-df-convert:hover {\n",
       "      background-color: #E2EBFA;\n",
       "      box-shadow: 0px 1px 2px rgba(60, 64, 67, 0.3), 0px 1px 3px 1px rgba(60, 64, 67, 0.15);\n",
       "      fill: #174EA6;\n",
       "    }\n",
       "\n",
       "    [theme=dark] .colab-df-convert {\n",
       "      background-color: #3B4455;\n",
       "      fill: #D2E3FC;\n",
       "    }\n",
       "\n",
       "    [theme=dark] .colab-df-convert:hover {\n",
       "      background-color: #434B5C;\n",
       "      box-shadow: 0px 1px 3px 1px rgba(0, 0, 0, 0.15);\n",
       "      filter: drop-shadow(0px 1px 2px rgba(0, 0, 0, 0.3));\n",
       "      fill: #FFFFFF;\n",
       "    }\n",
       "  </style>\n",
       "\n",
       "      <script>\n",
       "        const buttonEl =\n",
       "          document.querySelector('#df-6c0449a2-ab92-42ec-88b2-e92cc4d3c539 button.colab-df-convert');\n",
       "        buttonEl.style.display =\n",
       "          google.colab.kernel.accessAllowed ? 'block' : 'none';\n",
       "\n",
       "        async function convertToInteractive(key) {\n",
       "          const element = document.querySelector('#df-6c0449a2-ab92-42ec-88b2-e92cc4d3c539');\n",
       "          const dataTable =\n",
       "            await google.colab.kernel.invokeFunction('convertToInteractive',\n",
       "                                                     [key], {});\n",
       "          if (!dataTable) return;\n",
       "\n",
       "          const docLinkHtml = 'Like what you see? Visit the ' +\n",
       "            '<a target=\"_blank\" href=https://colab.research.google.com/notebooks/data_table.ipynb>data table notebook</a>'\n",
       "            + ' to learn more about interactive tables.';\n",
       "          element.innerHTML = '';\n",
       "          dataTable['output_type'] = 'display_data';\n",
       "          await google.colab.output.renderOutput(dataTable, element);\n",
       "          const docLink = document.createElement('div');\n",
       "          docLink.innerHTML = docLinkHtml;\n",
       "          element.appendChild(docLink);\n",
       "        }\n",
       "      </script>\n",
       "    </div>\n",
       "  </div>\n",
       "  "
      ]
     },
     "metadata": {},
     "execution_count": 3
    }
   ]
  },
  {
   "cell_type": "code",
   "source": [
    "sns.heatmap(df.corr())"
   ],
   "metadata": {
    "colab": {
     "base_uri": "https://localhost:8080/",
     "height": 344
    },
    "id": "xrwJeVQmGUPn",
    "outputId": "f76870bf-cb2d-42d7-ed19-00420b7e8014",
    "pycharm": {
     "name": "#%%\n"
    }
   },
   "execution_count": null,
   "outputs": [
    {
     "output_type": "execute_result",
     "data": {
      "text/plain": [
       "<matplotlib.axes._subplots.AxesSubplot at 0x7feb3387fac0>"
      ]
     },
     "metadata": {},
     "execution_count": 18
    },
    {
     "output_type": "display_data",
     "data": {
      "text/plain": [
       "<Figure size 432x288 with 2 Axes>"
      ],
      "image/png": "[encoded data removed]"
     },
     "metadata": {
      "needs_background": "light"
     }
    }
   ]
  },
  {
   "cell_type": "code",
   "source": [
    "sns.histplot(data=df, x='intensity')\n",
    "plt.figure(figsize=(12, 8))\n",
    "gfg = sns.histplot(data=df, x='intensity', binrange=(0,2000))\n",
    "gfg.set(xlabel =\"Intenzita značek\", ylabel = \"Počet značek\")\n",
    "plt.show()"
   ],
   "metadata": {
    "colab": {
     "base_uri": "https://localhost:8080/",
     "height": 759
    },
    "id": "kU6suJ3ZGs1g",
    "outputId": "b64501ee-53d9-4866-9b57-2dae45b23710",
    "pycharm": {
     "name": "#%%\n"
    }
   },
   "execution_count": null,
   "outputs": [
    {
     "output_type": "display_data",
     "data": {
      "text/plain": [
       "<Figure size 432x288 with 1 Axes>"
      ],
      "image/png": "[encoded data removed]"
     },
     "metadata": {
      "needs_background": "light"
     }
    },
    {
     "output_type": "display_data",
     "data": {
      "text/plain": [
       "<Figure size 864x576 with 1 Axes>"
      ],
      "image/png": "[encoded data removed]"
     },
     "metadata": {
      "needs_background": "light"
     }
    }
   ]
  },
  {
   "cell_type": "code",
   "source": [
    "pd.options.display.float_format = '{:20,.4f}'.format\n",
    "df['intensity'].describe()"
   ],
   "metadata": {
    "colab": {
     "base_uri": "https://localhost:8080/"
    },
    "id": "To1InVCbA82w",
    "outputId": "5af70405-c289-4912-b101-8e0bb5edb22c",
    "pycharm": {
     "name": "#%%\n"
    }
   },
   "execution_count": null,
   "outputs": [
    {
     "output_type": "execute_result",
     "data": {
      "text/plain": [
       "count         2,095,878.0000\n",
       "mean                383.0240\n",
       "std                 228.3043\n",
       "min                  76.4600\n",
       "25%                 247.9200\n",
       "50%                 337.4300\n",
       "75%                 460.7900\n",
       "max              15,582.6600\n",
       "Name: intensity, dtype: float64"
      ]
     },
     "metadata": {},
     "execution_count": 23
    }
   ]
  },
  {
   "cell_type": "code",
   "source": [
    "sns.boxplot(x='fov', y='intensity',data=df,showfliers=False)\n",
    "plt.show()\n",
    "sns.boxplot(x='run', y='intensity',data=df, showfliers=False)\n",
    "plt.show()\n",
    "sns.boxplot(x='column', y='intensity',data=df.loc[df['column'] < 10], showfliers=False)\n",
    "plt.show()\n",
    "sns.boxplot(x='fov', y='intensity',data=df15,showfliers=False)\n",
    "plt.show()\n",
    "sns.boxplot(x='run', y='intensity',data=df15, showfliers=False)\n",
    "plt.show()\n",
    "sns.boxplot(x='column', y='intensity',data=df15.loc[df15['column'] < 10], showfliers=False)\n",
    "plt.show()"
   ],
   "metadata": {
    "colab": {
     "base_uri": "https://localhost:8080/",
     "height": 1000
    },
    "id": "IpO08KgzAyhB",
    "outputId": "e73de8c3-d725-4e90-a4ca-c1716e481220",
    "pycharm": {
     "name": "#%%\n"
    }
   },
   "execution_count": null,
   "outputs": [
    {
     "output_type": "display_data",
     "data": {
      "text/plain": [
       "<Figure size 432x288 with 1 Axes>"
      ],
      "image/png": "[encoded data removed]"
     },
     "metadata": {
      "needs_background": "light"
     }
    },
    {
     "output_type": "display_data",
     "data": {
      "text/plain": [
       "<Figure size 432x288 with 1 Axes>"
      ],
      "image/png": "[encoded data removed]"
     },
     "metadata": {
      "needs_background": "light"
     }
    },
    {
     "output_type": "display_data",
     "data": {
      "text/plain": [
       "<Figure size 432x288 with 1 Axes>"
      ],
      "image/png": "[encoded data removed]"
     },
     "metadata": {
      "needs_background": "light"
     }
    },
    {
     "output_type": "display_data",
     "data": {
      "text/plain": [
       "<Figure size 432x288 with 1 Axes>"
      ],
      "image/png": "[encoded data removed]"
     },
     "metadata": {
      "needs_background": "light"
     }
    },
    {
     "output_type": "display_data",
     "data": {
      "text/plain": [
       "<Figure size 432x288 with 1 Axes>"
      ],
      "image/png": "[encoded data removed]"
     },
     "metadata": {
      "needs_background": "light"
     }
    },
    {
     "output_type": "display_data",
     "data": {
      "text/plain": [
       "<Figure size 432x288 with 1 Axes>"
      ],
      "image/png": "[encoded data removed]"
     },
     "metadata": {
      "needs_background": "light"
     }
    }
   ]
  },
  {
   "cell_type": "code",
   "source": [
    "sns.boxplot(x='fov', y='snr',data=df,showfliers=False)\n",
    "plt.show()\n",
    "sns.boxplot(x='run', y='snr',data=df, showfliers=False)\n",
    "plt.show()\n",
    "sns.boxplot(x='column', y='snr',data=df.loc[df['column'] < 10], showfliers=False)\n",
    "plt.show()"
   ],
   "metadata": {
    "colab": {
     "base_uri": "https://localhost:8080/",
     "height": 803
    },
    "id": "dto4KdUCQPOc",
    "outputId": "34974174-ee9d-46ef-b8a6-e4325e831d7b",
    "pycharm": {
     "name": "#%%\n"
    }
   },
   "execution_count": null,
   "outputs": [
    {
     "output_type": "display_data",
     "data": {
      "text/plain": [
       "<Figure size 432x288 with 1 Axes>"
      ],
      "image/png": "[encoded data removed]"
     },
     "metadata": {
      "needs_background": "light"
     }
    },
    {
     "output_type": "display_data",
     "data": {
      "text/plain": [
       "<Figure size 432x288 with 1 Axes>"
      ],
      "image/png": "[encoded data removed]"
     },
     "metadata": {
      "needs_background": "light"
     }
    },
    {
     "output_type": "display_data",
     "data": {
      "text/plain": [
       "<Figure size 432x288 with 1 Axes>"
      ],
      "image/png": "[encoded data removed]"
     },
     "metadata": {
      "needs_background": "light"
     }
    }
   ]
  },
  {
   "cell_type": "code",
   "source": [
    "pd.options.display.float_format = '{:20,.4f}'.format\n",
    "print(df.loc[df['x_diff']>20])\n",
    "print(df['x_diff'].describe())"
   ],
   "metadata": {
    "id": "E2ukuPMxuUQ6",
    "pycharm": {
     "name": "#%%\n"
    }
   },
   "execution_count": null,
   "outputs": []
  },
  {
   "cell_type": "code",
   "source": [
    "sns.histplot(data=df, x='x_diff')"
   ],
   "metadata": {
    "colab": {
     "base_uri": "https://localhost:8080/",
     "height": 298
    },
    "id": "kFajafwgtymX",
    "outputId": "c1ca2eb4-8e2c-4ccd-c9fc-ce828cb3eefd",
    "pycharm": {
     "name": "#%%\n"
    }
   },
   "execution_count": null,
   "outputs": [
    {
     "output_type": "execute_result",
     "data": {
      "text/plain": [
       "<matplotlib.axes._subplots.AxesSubplot at 0x7f4454fde7f0>"
      ]
     },
     "metadata": {},
     "execution_count": 6
    },
    {
     "output_type": "display_data",
     "data": {
      "text/plain": [
       "<Figure size 432x288 with 1 Axes>"
      ],
      "image/png": "[encoded data removed]"
     },
     "metadata": {
      "needs_background": "light"
     }
    }
   ]
  },
  {
   "cell_type": "code",
   "source": [
    "df=pd.read_csv('/content/drive/MyDrive/Colab Notebooks/diplomka/column1.csv')\n",
    "plt.figure(figsize=(12, 8))\n",
    "gfg = sns.boxplot(x='scan', y='avg_intensity',data=df.loc[(df['column'] == 1) | (df['column'] == 137) | (df['column'] % 15 == 0)], showfliers=False)\n",
    "gfg.set(xlabel =\"Číslo skenu\", ylabel = \"Průměrná intenzita molekuly\")\n",
    "plt.show()"
   ],
   "metadata": {
    "colab": {
     "base_uri": "https://localhost:8080/",
     "height": 497
    },
    "id": "jrZQYD_4xM1w",
    "outputId": "030b4833-b411-4f52-c621-6b6c8924563e",
    "pycharm": {
     "name": "#%%\n"
    }
   },
   "execution_count": null,
   "outputs": [
    {
     "output_type": "display_data",
     "data": {
      "text/plain": [
       "<Figure size 864x576 with 1 Axes>"
      ],
      "image/png": "[encoded data removed]"
     },
     "metadata": {
      "needs_background": "light"
     }
    }
   ]
  },
  {
   "cell_type": "markdown",
   "source": [
    "\n",
    "# Noise "
   ],
   "metadata": {
    "id": "6I0p4xCF35-i",
    "pycharm": {
     "name": "#%% md\n"
    }
   }
  },
  {
   "cell_type": "code",
   "source": [
    "df['bnx_deviation'] = df['intensity'] / df['snr']\n",
    "df['bnx_deviation'].describe()\n",
    "sns.histplot(data=df, x='bnx_deviation')"
   ],
   "metadata": {
    "colab": {
     "base_uri": "https://localhost:8080/",
     "height": 297
    },
    "id": "7BoSpUD9zjGa",
    "outputId": "2409b925-aacf-4be7-f831-3d7bd52dd8fd",
    "pycharm": {
     "name": "#%%\n"
    }
   },
   "execution_count": null,
   "outputs": [
    {
     "output_type": "execute_result",
     "data": {
      "text/plain": [
       "<AxesSubplot:xlabel='bnx_deviation', ylabel='Count'>"
      ]
     },
     "metadata": {},
     "execution_count": 4
    },
    {
     "output_type": "display_data",
     "data": {
      "text/plain": [
       "<Figure size 432x288 with 1 Axes>"
      ],
      "image/png": "[encoded data removed]"
     },
     "metadata": {
      "needs_background": "light"
     }
    }
   ]
  },
  {
   "cell_type": "markdown",
   "source": [
    "deviation almost same for all marks on one molecule"
   ],
   "metadata": {
    "id": "0pPwMp0e107v",
    "pycharm": {
     "name": "#%% md\n"
    }
   }
  },
  {
   "cell_type": "code",
   "source": [
    "dfSNR = pd.read_csv('/content/drive/MyDrive/Colab Notebooks/diplomka/snr_scan1.csv')\n",
    "df['deviation'] = dfSNR['th_200']\n",
    "df.loc[(df['column']==21) &(df['run'] ==1)].head(800)"
   ],
   "metadata": {
    "colab": {
     "base_uri": "https://localhost:8080/",
     "height": 423
    },
    "id": "-uDBJ2va1aqt",
    "outputId": "94e7b17c-a4f8-4edb-e723-100f43beabb0",
    "pycharm": {
     "name": "#%%\n"
    }
   },
   "execution_count": null,
   "outputs": [
    {
     "output_type": "execute_result",
     "data": {
      "text/plain": [
       "       intensity       snr    x        y  fov  avg_intensity  avg_snr  length  \\\n",
       "0         433.70  35.96145  268  2508800    2        2009.81  145.693  669375   \n",
       "1         405.33  33.60907  268  2508800    2        2009.81  145.693  669375   \n",
       "2         233.90  19.39447  268  2508800    2        2009.81  145.693  669375   \n",
       "3         278.33  23.07851  268  2508800    2        2009.81  145.693  669375   \n",
       "4         237.06  19.65649  268  2508800    2        2009.81  145.693  669375   \n",
       "...          ...       ...  ...      ...  ...            ...      ...     ...   \n",
       "18735     890.11  68.63312  922  4915200    3        3137.70  178.130  305250   \n",
       "18736     545.74  42.08001  922  4915200    3        3137.70  178.130  305250   \n",
       "18737    1087.12  83.82384  922  4915200    3        3137.70  178.130  305250   \n",
       "18738     971.39  74.90032  922  4915200    3        3137.70  178.130  305250   \n",
       "18739     530.57  40.91031  922  4915200    3        3137.70  178.130  305250   \n",
       "\n",
       "       marks_count  scan  run  column  x_diff  deviation  \n",
       "0              136     1    1      21       1  12.236763  \n",
       "1              136     1    1      21       1  12.236763  \n",
       "2              136     1    1      21       1  12.236763  \n",
       "3              136     1    1      21       1  12.236763  \n",
       "4              136     1    1      21       1  12.236763  \n",
       "...            ...   ...  ...     ...     ...        ...  \n",
       "18735           56     1    1      21       8  14.697043  \n",
       "18736           56     1    1      21       8  14.697043  \n",
       "18737           56     1    1      21       8  14.697043  \n",
       "18738           56     1    1      21       8  14.697043  \n",
       "18739           56     1    1      21       8  14.697043  \n",
       "\n",
       "[800 rows x 14 columns]"
      ],
      "text/html": [
       "\n",
       "  <div id=\"df-3e103d35-c7bc-4540-ba77-73a79bd9ce49\">\n",
       "    <div class=\"colab-df-container\">\n",
       "      <div>\n",
       "<style scoped>\n",
       "    .dataframe tbody tr th:only-of-type {\n",
       "        vertical-align: middle;\n",
       "    }\n",
       "\n",
       "    .dataframe tbody tr th {\n",
       "        vertical-align: top;\n",
       "    }\n",
       "\n",
       "    .dataframe thead th {\n",
       "        text-align: right;\n",
       "    }\n",
       "</style>\n",
       "<table border=\"1\" class=\"dataframe\">\n",
       "  <thead>\n",
       "    <tr style=\"text-align: right;\">\n",
       "      <th></th>\n",
       "      <th>intensity</th>\n",
       "      <th>snr</th>\n",
       "      <th>x</th>\n",
       "      <th>y</th>\n",
       "      <th>fov</th>\n",
       "      <th>avg_intensity</th>\n",
       "      <th>avg_snr</th>\n",
       "      <th>length</th>\n",
       "      <th>marks_count</th>\n",
       "      <th>scan</th>\n",
       "      <th>run</th>\n",
       "      <th>column</th>\n",
       "      <th>x_diff</th>\n",
       "      <th>deviation</th>\n",
       "    </tr>\n",
       "  </thead>\n",
       "  <tbody>\n",
       "    <tr>\n",
       "      <th>0</th>\n",
       "      <td>433.70</td>\n",
       "      <td>35.96145</td>\n",
       "      <td>268</td>\n",
       "      <td>2508800</td>\n",
       "      <td>2</td>\n",
       "      <td>2009.81</td>\n",
       "      <td>145.693</td>\n",
       "      <td>669375</td>\n",
       "      <td>136</td>\n",
       "      <td>1</td>\n",
       "      <td>1</td>\n",
       "      <td>21</td>\n",
       "      <td>1</td>\n",
       "      <td>12.236763</td>\n",
       "    </tr>\n",
       "    <tr>\n",
       "      <th>1</th>\n",
       "      <td>405.33</td>\n",
       "      <td>33.60907</td>\n",
       "      <td>268</td>\n",
       "      <td>2508800</td>\n",
       "      <td>2</td>\n",
       "      <td>2009.81</td>\n",
       "      <td>145.693</td>\n",
       "      <td>669375</td>\n",
       "      <td>136</td>\n",
       "      <td>1</td>\n",
       "      <td>1</td>\n",
       "      <td>21</td>\n",
       "      <td>1</td>\n",
       "      <td>12.236763</td>\n",
       "    </tr>\n",
       "    <tr>\n",
       "      <th>2</th>\n",
       "      <td>233.90</td>\n",
       "      <td>19.39447</td>\n",
       "      <td>268</td>\n",
       "      <td>2508800</td>\n",
       "      <td>2</td>\n",
       "      <td>2009.81</td>\n",
       "      <td>145.693</td>\n",
       "      <td>669375</td>\n",
       "      <td>136</td>\n",
       "      <td>1</td>\n",
       "      <td>1</td>\n",
       "      <td>21</td>\n",
       "      <td>1</td>\n",
       "      <td>12.236763</td>\n",
       "    </tr>\n",
       "    <tr>\n",
       "      <th>3</th>\n",
       "      <td>278.33</td>\n",
       "      <td>23.07851</td>\n",
       "      <td>268</td>\n",
       "      <td>2508800</td>\n",
       "      <td>2</td>\n",
       "      <td>2009.81</td>\n",
       "      <td>145.693</td>\n",
       "      <td>669375</td>\n",
       "      <td>136</td>\n",
       "      <td>1</td>\n",
       "      <td>1</td>\n",
       "      <td>21</td>\n",
       "      <td>1</td>\n",
       "      <td>12.236763</td>\n",
       "    </tr>\n",
       "    <tr>\n",
       "      <th>4</th>\n",
       "      <td>237.06</td>\n",
       "      <td>19.65649</td>\n",
       "      <td>268</td>\n",
       "      <td>2508800</td>\n",
       "      <td>2</td>\n",
       "      <td>2009.81</td>\n",
       "      <td>145.693</td>\n",
       "      <td>669375</td>\n",
       "      <td>136</td>\n",
       "      <td>1</td>\n",
       "      <td>1</td>\n",
       "      <td>21</td>\n",
       "      <td>1</td>\n",
       "      <td>12.236763</td>\n",
       "    </tr>\n",
       "    <tr>\n",
       "      <th>...</th>\n",
       "      <td>...</td>\n",
       "      <td>...</td>\n",
       "      <td>...</td>\n",
       "      <td>...</td>\n",
       "      <td>...</td>\n",
       "      <td>...</td>\n",
       "      <td>...</td>\n",
       "      <td>...</td>\n",
       "      <td>...</td>\n",
       "      <td>...</td>\n",
       "      <td>...</td>\n",
       "      <td>...</td>\n",
       "      <td>...</td>\n",
       "      <td>...</td>\n",
       "    </tr>\n",
       "    <tr>\n",
       "      <th>18735</th>\n",
       "      <td>890.11</td>\n",
       "      <td>68.63312</td>\n",
       "      <td>922</td>\n",
       "      <td>4915200</td>\n",
       "      <td>3</td>\n",
       "      <td>3137.70</td>\n",
       "      <td>178.130</td>\n",
       "      <td>305250</td>\n",
       "      <td>56</td>\n",
       "      <td>1</td>\n",
       "      <td>1</td>\n",
       "      <td>21</td>\n",
       "      <td>8</td>\n",
       "      <td>14.697043</td>\n",
       "    </tr>\n",
       "    <tr>\n",
       "      <th>18736</th>\n",
       "      <td>545.74</td>\n",
       "      <td>42.08001</td>\n",
       "      <td>922</td>\n",
       "      <td>4915200</td>\n",
       "      <td>3</td>\n",
       "      <td>3137.70</td>\n",
       "      <td>178.130</td>\n",
       "      <td>305250</td>\n",
       "      <td>56</td>\n",
       "      <td>1</td>\n",
       "      <td>1</td>\n",
       "      <td>21</td>\n",
       "      <td>8</td>\n",
       "      <td>14.697043</td>\n",
       "    </tr>\n",
       "    <tr>\n",
       "      <th>18737</th>\n",
       "      <td>1087.12</td>\n",
       "      <td>83.82384</td>\n",
       "      <td>922</td>\n",
       "      <td>4915200</td>\n",
       "      <td>3</td>\n",
       "      <td>3137.70</td>\n",
       "      <td>178.130</td>\n",
       "      <td>305250</td>\n",
       "      <td>56</td>\n",
       "      <td>1</td>\n",
       "      <td>1</td>\n",
       "      <td>21</td>\n",
       "      <td>8</td>\n",
       "      <td>14.697043</td>\n",
       "    </tr>\n",
       "    <tr>\n",
       "      <th>18738</th>\n",
       "      <td>971.39</td>\n",
       "      <td>74.90032</td>\n",
       "      <td>922</td>\n",
       "      <td>4915200</td>\n",
       "      <td>3</td>\n",
       "      <td>3137.70</td>\n",
       "      <td>178.130</td>\n",
       "      <td>305250</td>\n",
       "      <td>56</td>\n",
       "      <td>1</td>\n",
       "      <td>1</td>\n",
       "      <td>21</td>\n",
       "      <td>8</td>\n",
       "      <td>14.697043</td>\n",
       "    </tr>\n",
       "    <tr>\n",
       "      <th>18739</th>\n",
       "      <td>530.57</td>\n",
       "      <td>40.91031</td>\n",
       "      <td>922</td>\n",
       "      <td>4915200</td>\n",
       "      <td>3</td>\n",
       "      <td>3137.70</td>\n",
       "      <td>178.130</td>\n",
       "      <td>305250</td>\n",
       "      <td>56</td>\n",
       "      <td>1</td>\n",
       "      <td>1</td>\n",
       "      <td>21</td>\n",
       "      <td>8</td>\n",
       "      <td>14.697043</td>\n",
       "    </tr>\n",
       "  </tbody>\n",
       "</table>\n",
       "<p>800 rows × 14 columns</p>\n",
       "</div>\n",
       "      <button class=\"colab-df-convert\" onclick=\"convertToInteractive('df-3e103d35-c7bc-4540-ba77-73a79bd9ce49')\"\n",
       "              title=\"Convert this dataframe to an interactive table.\"\n",
       "              style=\"display:none;\">\n",
       "        \n",
       "  <svg xmlns=\"http://www.w3.org/2000/svg\" height=\"24px\"viewBox=\"0 0 24 24\"\n",
       "       width=\"24px\">\n",
       "    <path d=\"M0 0h24v24H0V0z\" fill=\"none\"/>\n",
       "    <path d=\"M18.56 5.44l.94 2.06.94-2.06 2.06-.94-2.06-.94-.94-2.06-.94 2.06-2.06.94zm-11 1L8.5 8.5l.94-2.06 2.06-.94-2.06-.94L8.5 2.5l-.94 2.06-2.06.94zm10 10l.94 2.06.94-2.06 2.06-.94-2.06-.94-.94-2.06-.94 2.06-2.06.94z\"/><path d=\"M17.41 7.96l-1.37-1.37c-.4-.4-.92-.59-1.43-.59-.52 0-1.04.2-1.43.59L10.3 9.45l-7.72 7.72c-.78.78-.78 2.05 0 2.83L4 21.41c.39.39.9.59 1.41.59.51 0 1.02-.2 1.41-.59l7.78-7.78 2.81-2.81c.8-.78.8-2.07 0-2.86zM5.41 20L4 18.59l7.72-7.72 1.47 1.35L5.41 20z\"/>\n",
       "  </svg>\n",
       "      </button>\n",
       "      \n",
       "  <style>\n",
       "    .colab-df-container {\n",
       "      display:flex;\n",
       "      flex-wrap:wrap;\n",
       "      gap: 12px;\n",
       "    }\n",
       "\n",
       "    .colab-df-convert {\n",
       "      background-color: #E8F0FE;\n",
       "      border: none;\n",
       "      border-radius: 50%;\n",
       "      cursor: pointer;\n",
       "      display: none;\n",
       "      fill: #1967D2;\n",
       "      height: 32px;\n",
       "      padding: 0 0 0 0;\n",
       "      width: 32px;\n",
       "    }\n",
       "\n",
       "    .colab-df-convert:hover {\n",
       "      background-color: #E2EBFA;\n",
       "      box-shadow: 0px 1px 2px rgba(60, 64, 67, 0.3), 0px 1px 3px 1px rgba(60, 64, 67, 0.15);\n",
       "      fill: #174EA6;\n",
       "    }\n",
       "\n",
       "    [theme=dark] .colab-df-convert {\n",
       "      background-color: #3B4455;\n",
       "      fill: #D2E3FC;\n",
       "    }\n",
       "\n",
       "    [theme=dark] .colab-df-convert:hover {\n",
       "      background-color: #434B5C;\n",
       "      box-shadow: 0px 1px 3px 1px rgba(0, 0, 0, 0.15);\n",
       "      filter: drop-shadow(0px 1px 2px rgba(0, 0, 0, 0.3));\n",
       "      fill: #FFFFFF;\n",
       "    }\n",
       "  </style>\n",
       "\n",
       "      <script>\n",
       "        const buttonEl =\n",
       "          document.querySelector('#df-3e103d35-c7bc-4540-ba77-73a79bd9ce49 button.colab-df-convert');\n",
       "        buttonEl.style.display =\n",
       "          google.colab.kernel.accessAllowed ? 'block' : 'none';\n",
       "\n",
       "        async function convertToInteractive(key) {\n",
       "          const element = document.querySelector('#df-3e103d35-c7bc-4540-ba77-73a79bd9ce49');\n",
       "          const dataTable =\n",
       "            await google.colab.kernel.invokeFunction('convertToInteractive',\n",
       "                                                     [key], {});\n",
       "          if (!dataTable) return;\n",
       "\n",
       "          const docLinkHtml = 'Like what you see? Visit the ' +\n",
       "            '<a target=\"_blank\" href=https://colab.research.google.com/notebooks/data_table.ipynb>data table notebook</a>'\n",
       "            + ' to learn more about interactive tables.';\n",
       "          element.innerHTML = '';\n",
       "          dataTable['output_type'] = 'display_data';\n",
       "          await google.colab.output.renderOutput(dataTable, element);\n",
       "          const docLink = document.createElement('div');\n",
       "          docLink.innerHTML = docLinkHtml;\n",
       "          element.appendChild(docLink);\n",
       "        }\n",
       "      </script>\n",
       "    </div>\n",
       "  </div>\n",
       "  "
      ]
     },
     "metadata": {},
     "execution_count": 4
    }
   ]
  },
  {
   "cell_type": "code",
   "source": [
    "sns.boxplot(data=df, x='run', y='bnx_deviation')"
   ],
   "metadata": {
    "colab": {
     "base_uri": "https://localhost:8080/",
     "height": 296
    },
    "id": "TaXoNXziIHJH",
    "outputId": "276418b5-ecd2-4794-da6b-a237dcb3a77a",
    "pycharm": {
     "name": "#%%\n"
    }
   },
   "execution_count": null,
   "outputs": [
    {
     "output_type": "execute_result",
     "data": {
      "text/plain": [
       "<AxesSubplot:xlabel='run', ylabel='bnx_deviation'>"
      ]
     },
     "metadata": {},
     "execution_count": 17
    },
    {
     "output_type": "display_data",
     "data": {
      "text/plain": [
       "<Figure size 432x288 with 1 Axes>"
      ],
      "image/png": "[encoded data removed]"
     },
     "metadata": {
      "needs_background": "light"
     }
    }
   ]
  },
  {
   "cell_type": "markdown",
   "source": [
    "**Image**"
   ],
   "metadata": {
    "id": "Vrcmdh6N2E_d",
    "pycharm": {
     "name": "#%% md\n"
    }
   }
  },
  {
   "cell_type": "code",
   "source": [
    "dfImage = pd.read_csv('/content/drive/MyDrive/Colab Notebooks/diplomka/imageIntensities1.csv')"
   ],
   "metadata": {
    "id": "-RX8bgBL2j-S",
    "pycharm": {
     "name": "#%%\n"
    }
   },
   "execution_count": null,
   "outputs": []
  },
  {
   "cell_type": "code",
   "source": [
    "dfImageNoiseDeviation = pd.read_csv('/content/drive/MyDrive/Colab Notebooks/diplomka/std_scan1.csv', header=None)\n",
    "dfImageNoiseDeviation.columns = ['scan', 'run', 'column', 'deviation']\n",
    "dfImageNoiseDeviation"
   ],
   "metadata": {
    "colab": {
     "base_uri": "https://localhost:8080/",
     "height": 423
    },
    "id": "PrmA1SBa7IJ3",
    "outputId": "67efde99-8abb-42b7-9ef7-d0c221847c7f",
    "pycharm": {
     "name": "#%%\n"
    }
   },
   "execution_count": null,
   "outputs": [
    {
     "output_type": "execute_result",
     "data": {
      "text/plain": [
       "     scan  run  column  deviation\n",
       "0       1    1       1  22.965214\n",
       "1       1    1       2  23.491203\n",
       "2       1    1       3  23.346827\n",
       "3       1    1       4  22.935967\n",
       "4       1    1       5  22.838657\n",
       "..    ...  ...     ...        ...\n",
       "542     1    8     133  21.527448\n",
       "543     1    8     134  27.637924\n",
       "544     1    8     135  21.560340\n",
       "545     1    8     136  22.096802\n",
       "546     1    8     137  17.953564\n",
       "\n",
       "[547 rows x 4 columns]"
      ],
      "text/html": [
       "\n",
       "  <div id=\"df-b4b324a8-e222-4cdd-a0c4-4902fa79d288\">\n",
       "    <div class=\"colab-df-container\">\n",
       "      <div>\n",
       "<style scoped>\n",
       "    .dataframe tbody tr th:only-of-type {\n",
       "        vertical-align: middle;\n",
       "    }\n",
       "\n",
       "    .dataframe tbody tr th {\n",
       "        vertical-align: top;\n",
       "    }\n",
       "\n",
       "    .dataframe thead th {\n",
       "        text-align: right;\n",
       "    }\n",
       "</style>\n",
       "<table border=\"1\" class=\"dataframe\">\n",
       "  <thead>\n",
       "    <tr style=\"text-align: right;\">\n",
       "      <th></th>\n",
       "      <th>scan</th>\n",
       "      <th>run</th>\n",
       "      <th>column</th>\n",
       "      <th>deviation</th>\n",
       "    </tr>\n",
       "  </thead>\n",
       "  <tbody>\n",
       "    <tr>\n",
       "      <th>0</th>\n",
       "      <td>1</td>\n",
       "      <td>1</td>\n",
       "      <td>1</td>\n",
       "      <td>22.965214</td>\n",
       "    </tr>\n",
       "    <tr>\n",
       "      <th>1</th>\n",
       "      <td>1</td>\n",
       "      <td>1</td>\n",
       "      <td>2</td>\n",
       "      <td>23.491203</td>\n",
       "    </tr>\n",
       "    <tr>\n",
       "      <th>2</th>\n",
       "      <td>1</td>\n",
       "      <td>1</td>\n",
       "      <td>3</td>\n",
       "      <td>23.346827</td>\n",
       "    </tr>\n",
       "    <tr>\n",
       "      <th>3</th>\n",
       "      <td>1</td>\n",
       "      <td>1</td>\n",
       "      <td>4</td>\n",
       "      <td>22.935967</td>\n",
       "    </tr>\n",
       "    <tr>\n",
       "      <th>4</th>\n",
       "      <td>1</td>\n",
       "      <td>1</td>\n",
       "      <td>5</td>\n",
       "      <td>22.838657</td>\n",
       "    </tr>\n",
       "    <tr>\n",
       "      <th>...</th>\n",
       "      <td>...</td>\n",
       "      <td>...</td>\n",
       "      <td>...</td>\n",
       "      <td>...</td>\n",
       "    </tr>\n",
       "    <tr>\n",
       "      <th>542</th>\n",
       "      <td>1</td>\n",
       "      <td>8</td>\n",
       "      <td>133</td>\n",
       "      <td>21.527448</td>\n",
       "    </tr>\n",
       "    <tr>\n",
       "      <th>543</th>\n",
       "      <td>1</td>\n",
       "      <td>8</td>\n",
       "      <td>134</td>\n",
       "      <td>27.637924</td>\n",
       "    </tr>\n",
       "    <tr>\n",
       "      <th>544</th>\n",
       "      <td>1</td>\n",
       "      <td>8</td>\n",
       "      <td>135</td>\n",
       "      <td>21.560340</td>\n",
       "    </tr>\n",
       "    <tr>\n",
       "      <th>545</th>\n",
       "      <td>1</td>\n",
       "      <td>8</td>\n",
       "      <td>136</td>\n",
       "      <td>22.096802</td>\n",
       "    </tr>\n",
       "    <tr>\n",
       "      <th>546</th>\n",
       "      <td>1</td>\n",
       "      <td>8</td>\n",
       "      <td>137</td>\n",
       "      <td>17.953564</td>\n",
       "    </tr>\n",
       "  </tbody>\n",
       "</table>\n",
       "<p>547 rows × 4 columns</p>\n",
       "</div>\n",
       "      <button class=\"colab-df-convert\" onclick=\"convertToInteractive('df-b4b324a8-e222-4cdd-a0c4-4902fa79d288')\"\n",
       "              title=\"Convert this dataframe to an interactive table.\"\n",
       "              style=\"display:none;\">\n",
       "        \n",
       "  <svg xmlns=\"http://www.w3.org/2000/svg\" height=\"24px\"viewBox=\"0 0 24 24\"\n",
       "       width=\"24px\">\n",
       "    <path d=\"M0 0h24v24H0V0z\" fill=\"none\"/>\n",
       "    <path d=\"M18.56 5.44l.94 2.06.94-2.06 2.06-.94-2.06-.94-.94-2.06-.94 2.06-2.06.94zm-11 1L8.5 8.5l.94-2.06 2.06-.94-2.06-.94L8.5 2.5l-.94 2.06-2.06.94zm10 10l.94 2.06.94-2.06 2.06-.94-2.06-.94-.94-2.06-.94 2.06-2.06.94z\"/><path d=\"M17.41 7.96l-1.37-1.37c-.4-.4-.92-.59-1.43-.59-.52 0-1.04.2-1.43.59L10.3 9.45l-7.72 7.72c-.78.78-.78 2.05 0 2.83L4 21.41c.39.39.9.59 1.41.59.51 0 1.02-.2 1.41-.59l7.78-7.78 2.81-2.81c.8-.78.8-2.07 0-2.86zM5.41 20L4 18.59l7.72-7.72 1.47 1.35L5.41 20z\"/>\n",
       "  </svg>\n",
       "      </button>\n",
       "      \n",
       "  <style>\n",
       "    .colab-df-container {\n",
       "      display:flex;\n",
       "      flex-wrap:wrap;\n",
       "      gap: 12px;\n",
       "    }\n",
       "\n",
       "    .colab-df-convert {\n",
       "      background-color: #E8F0FE;\n",
       "      border: none;\n",
       "      border-radius: 50%;\n",
       "      cursor: pointer;\n",
       "      display: none;\n",
       "      fill: #1967D2;\n",
       "      height: 32px;\n",
       "      padding: 0 0 0 0;\n",
       "      width: 32px;\n",
       "    }\n",
       "\n",
       "    .colab-df-convert:hover {\n",
       "      background-color: #E2EBFA;\n",
       "      box-shadow: 0px 1px 2px rgba(60, 64, 67, 0.3), 0px 1px 3px 1px rgba(60, 64, 67, 0.15);\n",
       "      fill: #174EA6;\n",
       "    }\n",
       "\n",
       "    [theme=dark] .colab-df-convert {\n",
       "      background-color: #3B4455;\n",
       "      fill: #D2E3FC;\n",
       "    }\n",
       "\n",
       "    [theme=dark] .colab-df-convert:hover {\n",
       "      background-color: #434B5C;\n",
       "      box-shadow: 0px 1px 3px 1px rgba(0, 0, 0, 0.15);\n",
       "      filter: drop-shadow(0px 1px 2px rgba(0, 0, 0, 0.3));\n",
       "      fill: #FFFFFF;\n",
       "    }\n",
       "  </style>\n",
       "\n",
       "      <script>\n",
       "        const buttonEl =\n",
       "          document.querySelector('#df-b4b324a8-e222-4cdd-a0c4-4902fa79d288 button.colab-df-convert');\n",
       "        buttonEl.style.display =\n",
       "          google.colab.kernel.accessAllowed ? 'block' : 'none';\n",
       "\n",
       "        async function convertToInteractive(key) {\n",
       "          const element = document.querySelector('#df-b4b324a8-e222-4cdd-a0c4-4902fa79d288');\n",
       "          const dataTable =\n",
       "            await google.colab.kernel.invokeFunction('convertToInteractive',\n",
       "                                                     [key], {});\n",
       "          if (!dataTable) return;\n",
       "\n",
       "          const docLinkHtml = 'Like what you see? Visit the ' +\n",
       "            '<a target=\"_blank\" href=https://colab.research.google.com/notebooks/data_table.ipynb>data table notebook</a>'\n",
       "            + ' to learn more about interactive tables.';\n",
       "          element.innerHTML = '';\n",
       "          dataTable['output_type'] = 'display_data';\n",
       "          await google.colab.output.renderOutput(dataTable, element);\n",
       "          const docLink = document.createElement('div');\n",
       "          docLink.innerHTML = docLinkHtml;\n",
       "          element.appendChild(docLink);\n",
       "        }\n",
       "      </script>\n",
       "    </div>\n",
       "  </div>\n",
       "  "
      ]
     },
     "metadata": {},
     "execution_count": 10
    }
   ]
  },
  {
   "cell_type": "markdown",
   "source": [
    "this adds noise deviation from whole image to the df and snr can be computed as intensity/deviation"
   ],
   "metadata": {
    "id": "OE-qstNl9BP-",
    "pycharm": {
     "name": "#%% md\n"
    }
   }
  },
  {
   "cell_type": "code",
   "source": [
    "sns.histplot(data=dfImage, x='intensity')\n",
    "plt.figure(figsize=(12, 8))\n",
    "sns.histplot(data=dfImage, x='bnx_intensity', binrange=(0,2000), color='orange')\n",
    "gfg = sns.histplot(data=dfImage, x='intensity', binrange=(0,2000))\n",
    "gfg.set(xlabel =\"Intenzita značek\", ylabel = \"Počet značek\")\n",
    "plt.show()"
   ],
   "metadata": {
    "colab": {
     "base_uri": "https://localhost:8080/",
     "height": 759
    },
    "id": "prHDi3TA2txe",
    "outputId": "cecfef3f-2f4e-4b26-9468-f722bc5ed944",
    "pycharm": {
     "name": "#%%\n"
    }
   },
   "execution_count": null,
   "outputs": [
    {
     "output_type": "display_data",
     "data": {
      "text/plain": [
       "<Figure size 432x288 with 1 Axes>"
      ],
      "image/png": "[encoded data removed]"
     },
     "metadata": {
      "needs_background": "light"
     }
    },
    {
     "output_type": "display_data",
     "data": {
      "text/plain": [
       "<Figure size 864x576 with 1 Axes>"
      ],
      "image/png": "[encoded data removed]"
     },
     "metadata": {
      "needs_background": "light"
     }
    }
   ]
  },
  {
   "cell_type": "code",
   "source": [
    "dfImage = pd.read_csv('/content/drive/MyDrive/Colab Notebooks/diplomka/imageIntensities_noLine1.csv')\n",
    "sns.histplot(data=dfImage, x='intensity')\n",
    "plt.figure(figsize=(12, 8))\n",
    "sns.histplot(data=dfImage, x='bnx_intensity', binrange=(0,2000), color='orange')\n",
    "gfg = sns.histplot(data=dfImage, x='intensity', binrange=(0,2000))\n",
    "gfg.set(xlabel =\"Intenzita značek\", ylabel = \"Počet značek\")\n",
    "plt.show()"
   ],
   "metadata": {
    "colab": {
     "base_uri": "https://localhost:8080/",
     "height": 759
    },
    "id": "bhnFgzEs_RyY",
    "outputId": "c50b2618-b29d-461f-fee5-f45d9c914639",
    "pycharm": {
     "name": "#%%\n"
    }
   },
   "execution_count": null,
   "outputs": [
    {
     "output_type": "display_data",
     "data": {
      "text/plain": [
       "<Figure size 432x288 with 1 Axes>"
      ],
      "image/png": "[encoded data removed]"
     },
     "metadata": {
      "needs_background": "light"
     }
    },
    {
     "output_type": "display_data",
     "data": {
      "text/plain": [
       "<Figure size 864x576 with 1 Axes>"
      ],
      "image/png": "[encoded data removed]"
     },
     "metadata": {
      "needs_background": "light"
     }
    }
   ]
  },
  {
   "cell_type": "code",
   "source": [
    "plt.figure(figsize=(12, 8))\n",
    "df_plot = dfImage.melt(id_vars='fov', value_vars=[\"intensity\", \"bnx_intensity\"])\n",
    "sns.boxplot(x='fov', y='value',hue='variable',data=df_plot,showfliers=False)\n",
    "plt.show()\n",
    "plt.figure(figsize=(12, 8))\n",
    "sns.boxplot(x='run', y='intensity',data=dfImage, showfliers=False)\n",
    "plt.show()\n",
    "plt.figure(figsize=(12, 8))\n",
    "sns.boxplot(x='column', y='intensity',data=dfImage.loc[(dfImage['column'] % 15 == 0) | (dfImage['column'] == 1) | (dfImage['column'] == 137)], showfliers=False)\n",
    "plt.show()"
   ],
   "metadata": {
    "colab": {
     "base_uri": "https://localhost:8080/",
     "height": 1000
    },
    "id": "Jm8y_IwF7FgQ",
    "outputId": "b24591c7-8e08-4308-d6d8-eaeff8dabd9f",
    "pycharm": {
     "name": "#%%\n"
    }
   },
   "execution_count": null,
   "outputs": [
    {
     "output_type": "display_data",
     "data": {
      "text/plain": [
       "<Figure size 864x576 with 1 Axes>"
      ],
      "image/png": "[encoded data removed]"
     },
     "metadata": {
      "needs_background": "light"
     }
    },
    {
     "output_type": "display_data",
     "data": {
      "text/plain": [
       "<Figure size 864x576 with 1 Axes>"
      ],
      "image/png": "[encoded data removed]"
     },
     "metadata": {
      "needs_background": "light"
     }
    },
    {
     "output_type": "display_data",
     "data": {
      "text/plain": [
       "<Figure size 864x576 with 1 Axes>"
      ],
      "image/png": "[encoded data removed]"
     },
     "metadata": {
      "needs_background": "light"
     }
    }
   ]
  },
  {
   "cell_type": "markdown",
   "source": [
    "Noise"
   ],
   "metadata": {
    "id": "aRFL481y9n0D",
    "pycharm": {
     "name": "#%% md\n"
    }
   }
  },
  {
   "cell_type": "code",
   "source": [
    "dfImage = pd.merge(dfImage, dfImageNoiseDeviation,  how='left', left_on=['scan','run', 'column'], right_on = ['scan','run', 'column'])\n",
    "dfImage['snr'] = dfImage['intensity'] / dfImage['deviation']\n",
    "dfImage"
   ],
   "metadata": {
    "colab": {
     "base_uri": "https://localhost:8080/",
     "height": 423
    },
    "id": "C03a86YJ8CKG",
    "outputId": "bba729a3-04f2-4a08-df9f-8b690484ead4",
    "pycharm": {
     "name": "#%%\n"
    }
   },
   "execution_count": null,
   "outputs": [
    {
     "output_type": "execute_result",
     "data": {
      "text/plain": [
       "         Unnamed: 0  bnx_intensity   bnx_snr  intensity    x     y  fov  scan  \\\n",
       "0                 0         433.70  35.96145        642  268  3282    2     1   \n",
       "1                 1         405.33  33.60907        517  268  3308    2     1   \n",
       "2                 2         233.90  19.39447        418  268  3323    2     1   \n",
       "3                 3         278.33  23.07851        448  268  3340    2     1   \n",
       "4                 4         237.06  19.65649        430  268  3364    2     1   \n",
       "...             ...            ...       ...        ...  ...   ...  ...   ...   \n",
       "2095873     2095873         327.81  28.10282        539  962  6182    4     1   \n",
       "2095874     2095874         279.45  24.16375        435  186  6088    3     1   \n",
       "2095875     2095875         380.83  30.75379        589  252  6098    3     1   \n",
       "2095876     2095876         132.62  11.60423        243  304  6107    3     1   \n",
       "2095877     2095877         502.37  42.80740        711  406  6151    4     1   \n",
       "\n",
       "         run  column  deviation        snr  \n",
       "0          1      21  23.558367  27.251464  \n",
       "1          1      21  23.558367  21.945494  \n",
       "2          1      21  23.558367  17.743165  \n",
       "3          1      21  23.558367  19.016598  \n",
       "4          1      21  23.558367  18.252538  \n",
       "...      ...     ...        ...        ...  \n",
       "2095873    8     100  20.257702  26.607164  \n",
       "2095874    8     112  20.864475  20.848836  \n",
       "2095875    8      73  20.954954  28.107912  \n",
       "2095876    8     134  27.637924   8.792267  \n",
       "2095877    8     128  21.230223  33.489992  \n",
       "\n",
       "[2095878 rows x 12 columns]"
      ],
      "text/html": [
       "\n",
       "  <div id=\"df-f25d55d2-9daa-4b4a-95d3-398bfcc49364\">\n",
       "    <div class=\"colab-df-container\">\n",
       "      <div>\n",
       "<style scoped>\n",
       "    .dataframe tbody tr th:only-of-type {\n",
       "        vertical-align: middle;\n",
       "    }\n",
       "\n",
       "    .dataframe tbody tr th {\n",
       "        vertical-align: top;\n",
       "    }\n",
       "\n",
       "    .dataframe thead th {\n",
       "        text-align: right;\n",
       "    }\n",
       "</style>\n",
       "<table border=\"1\" class=\"dataframe\">\n",
       "  <thead>\n",
       "    <tr style=\"text-align: right;\">\n",
       "      <th></th>\n",
       "      <th>Unnamed: 0</th>\n",
       "      <th>bnx_intensity</th>\n",
       "      <th>bnx_snr</th>\n",
       "      <th>intensity</th>\n",
       "      <th>x</th>\n",
       "      <th>y</th>\n",
       "      <th>fov</th>\n",
       "      <th>scan</th>\n",
       "      <th>run</th>\n",
       "      <th>column</th>\n",
       "      <th>deviation</th>\n",
       "      <th>snr</th>\n",
       "    </tr>\n",
       "  </thead>\n",
       "  <tbody>\n",
       "    <tr>\n",
       "      <th>0</th>\n",
       "      <td>0</td>\n",
       "      <td>433.70</td>\n",
       "      <td>35.96145</td>\n",
       "      <td>642</td>\n",
       "      <td>268</td>\n",
       "      <td>3282</td>\n",
       "      <td>2</td>\n",
       "      <td>1</td>\n",
       "      <td>1</td>\n",
       "      <td>21</td>\n",
       "      <td>23.558367</td>\n",
       "      <td>27.251464</td>\n",
       "    </tr>\n",
       "    <tr>\n",
       "      <th>1</th>\n",
       "      <td>1</td>\n",
       "      <td>405.33</td>\n",
       "      <td>33.60907</td>\n",
       "      <td>517</td>\n",
       "      <td>268</td>\n",
       "      <td>3308</td>\n",
       "      <td>2</td>\n",
       "      <td>1</td>\n",
       "      <td>1</td>\n",
       "      <td>21</td>\n",
       "      <td>23.558367</td>\n",
       "      <td>21.945494</td>\n",
       "    </tr>\n",
       "    <tr>\n",
       "      <th>2</th>\n",
       "      <td>2</td>\n",
       "      <td>233.90</td>\n",
       "      <td>19.39447</td>\n",
       "      <td>418</td>\n",
       "      <td>268</td>\n",
       "      <td>3323</td>\n",
       "      <td>2</td>\n",
       "      <td>1</td>\n",
       "      <td>1</td>\n",
       "      <td>21</td>\n",
       "      <td>23.558367</td>\n",
       "      <td>17.743165</td>\n",
       "    </tr>\n",
       "    <tr>\n",
       "      <th>3</th>\n",
       "      <td>3</td>\n",
       "      <td>278.33</td>\n",
       "      <td>23.07851</td>\n",
       "      <td>448</td>\n",
       "      <td>268</td>\n",
       "      <td>3340</td>\n",
       "      <td>2</td>\n",
       "      <td>1</td>\n",
       "      <td>1</td>\n",
       "      <td>21</td>\n",
       "      <td>23.558367</td>\n",
       "      <td>19.016598</td>\n",
       "    </tr>\n",
       "    <tr>\n",
       "      <th>4</th>\n",
       "      <td>4</td>\n",
       "      <td>237.06</td>\n",
       "      <td>19.65649</td>\n",
       "      <td>430</td>\n",
       "      <td>268</td>\n",
       "      <td>3364</td>\n",
       "      <td>2</td>\n",
       "      <td>1</td>\n",
       "      <td>1</td>\n",
       "      <td>21</td>\n",
       "      <td>23.558367</td>\n",
       "      <td>18.252538</td>\n",
       "    </tr>\n",
       "    <tr>\n",
       "      <th>...</th>\n",
       "      <td>...</td>\n",
       "      <td>...</td>\n",
       "      <td>...</td>\n",
       "      <td>...</td>\n",
       "      <td>...</td>\n",
       "      <td>...</td>\n",
       "      <td>...</td>\n",
       "      <td>...</td>\n",
       "      <td>...</td>\n",
       "      <td>...</td>\n",
       "      <td>...</td>\n",
       "      <td>...</td>\n",
       "    </tr>\n",
       "    <tr>\n",
       "      <th>2095873</th>\n",
       "      <td>2095873</td>\n",
       "      <td>327.81</td>\n",
       "      <td>28.10282</td>\n",
       "      <td>539</td>\n",
       "      <td>962</td>\n",
       "      <td>6182</td>\n",
       "      <td>4</td>\n",
       "      <td>1</td>\n",
       "      <td>8</td>\n",
       "      <td>100</td>\n",
       "      <td>20.257702</td>\n",
       "      <td>26.607164</td>\n",
       "    </tr>\n",
       "    <tr>\n",
       "      <th>2095874</th>\n",
       "      <td>2095874</td>\n",
       "      <td>279.45</td>\n",
       "      <td>24.16375</td>\n",
       "      <td>435</td>\n",
       "      <td>186</td>\n",
       "      <td>6088</td>\n",
       "      <td>3</td>\n",
       "      <td>1</td>\n",
       "      <td>8</td>\n",
       "      <td>112</td>\n",
       "      <td>20.864475</td>\n",
       "      <td>20.848836</td>\n",
       "    </tr>\n",
       "    <tr>\n",
       "      <th>2095875</th>\n",
       "      <td>2095875</td>\n",
       "      <td>380.83</td>\n",
       "      <td>30.75379</td>\n",
       "      <td>589</td>\n",
       "      <td>252</td>\n",
       "      <td>6098</td>\n",
       "      <td>3</td>\n",
       "      <td>1</td>\n",
       "      <td>8</td>\n",
       "      <td>73</td>\n",
       "      <td>20.954954</td>\n",
       "      <td>28.107912</td>\n",
       "    </tr>\n",
       "    <tr>\n",
       "      <th>2095876</th>\n",
       "      <td>2095876</td>\n",
       "      <td>132.62</td>\n",
       "      <td>11.60423</td>\n",
       "      <td>243</td>\n",
       "      <td>304</td>\n",
       "      <td>6107</td>\n",
       "      <td>3</td>\n",
       "      <td>1</td>\n",
       "      <td>8</td>\n",
       "      <td>134</td>\n",
       "      <td>27.637924</td>\n",
       "      <td>8.792267</td>\n",
       "    </tr>\n",
       "    <tr>\n",
       "      <th>2095877</th>\n",
       "      <td>2095877</td>\n",
       "      <td>502.37</td>\n",
       "      <td>42.80740</td>\n",
       "      <td>711</td>\n",
       "      <td>406</td>\n",
       "      <td>6151</td>\n",
       "      <td>4</td>\n",
       "      <td>1</td>\n",
       "      <td>8</td>\n",
       "      <td>128</td>\n",
       "      <td>21.230223</td>\n",
       "      <td>33.489992</td>\n",
       "    </tr>\n",
       "  </tbody>\n",
       "</table>\n",
       "<p>2095878 rows × 12 columns</p>\n",
       "</div>\n",
       "      <button class=\"colab-df-convert\" onclick=\"convertToInteractive('df-f25d55d2-9daa-4b4a-95d3-398bfcc49364')\"\n",
       "              title=\"Convert this dataframe to an interactive table.\"\n",
       "              style=\"display:none;\">\n",
       "        \n",
       "  <svg xmlns=\"http://www.w3.org/2000/svg\" height=\"24px\"viewBox=\"0 0 24 24\"\n",
       "       width=\"24px\">\n",
       "    <path d=\"M0 0h24v24H0V0z\" fill=\"none\"/>\n",
       "    <path d=\"M18.56 5.44l.94 2.06.94-2.06 2.06-.94-2.06-.94-.94-2.06-.94 2.06-2.06.94zm-11 1L8.5 8.5l.94-2.06 2.06-.94-2.06-.94L8.5 2.5l-.94 2.06-2.06.94zm10 10l.94 2.06.94-2.06 2.06-.94-2.06-.94-.94-2.06-.94 2.06-2.06.94z\"/><path d=\"M17.41 7.96l-1.37-1.37c-.4-.4-.92-.59-1.43-.59-.52 0-1.04.2-1.43.59L10.3 9.45l-7.72 7.72c-.78.78-.78 2.05 0 2.83L4 21.41c.39.39.9.59 1.41.59.51 0 1.02-.2 1.41-.59l7.78-7.78 2.81-2.81c.8-.78.8-2.07 0-2.86zM5.41 20L4 18.59l7.72-7.72 1.47 1.35L5.41 20z\"/>\n",
       "  </svg>\n",
       "      </button>\n",
       "      \n",
       "  <style>\n",
       "    .colab-df-container {\n",
       "      display:flex;\n",
       "      flex-wrap:wrap;\n",
       "      gap: 12px;\n",
       "    }\n",
       "\n",
       "    .colab-df-convert {\n",
       "      background-color: #E8F0FE;\n",
       "      border: none;\n",
       "      border-radius: 50%;\n",
       "      cursor: pointer;\n",
       "      display: none;\n",
       "      fill: #1967D2;\n",
       "      height: 32px;\n",
       "      padding: 0 0 0 0;\n",
       "      width: 32px;\n",
       "    }\n",
       "\n",
       "    .colab-df-convert:hover {\n",
       "      background-color: #E2EBFA;\n",
       "      box-shadow: 0px 1px 2px rgba(60, 64, 67, 0.3), 0px 1px 3px 1px rgba(60, 64, 67, 0.15);\n",
       "      fill: #174EA6;\n",
       "    }\n",
       "\n",
       "    [theme=dark] .colab-df-convert {\n",
       "      background-color: #3B4455;\n",
       "      fill: #D2E3FC;\n",
       "    }\n",
       "\n",
       "    [theme=dark] .colab-df-convert:hover {\n",
       "      background-color: #434B5C;\n",
       "      box-shadow: 0px 1px 3px 1px rgba(0, 0, 0, 0.15);\n",
       "      filter: drop-shadow(0px 1px 2px rgba(0, 0, 0, 0.3));\n",
       "      fill: #FFFFFF;\n",
       "    }\n",
       "  </style>\n",
       "\n",
       "      <script>\n",
       "        const buttonEl =\n",
       "          document.querySelector('#df-f25d55d2-9daa-4b4a-95d3-398bfcc49364 button.colab-df-convert');\n",
       "        buttonEl.style.display =\n",
       "          google.colab.kernel.accessAllowed ? 'block' : 'none';\n",
       "\n",
       "        async function convertToInteractive(key) {\n",
       "          const element = document.querySelector('#df-f25d55d2-9daa-4b4a-95d3-398bfcc49364');\n",
       "          const dataTable =\n",
       "            await google.colab.kernel.invokeFunction('convertToInteractive',\n",
       "                                                     [key], {});\n",
       "          if (!dataTable) return;\n",
       "\n",
       "          const docLinkHtml = 'Like what you see? Visit the ' +\n",
       "            '<a target=\"_blank\" href=https://colab.research.google.com/notebooks/data_table.ipynb>data table notebook</a>'\n",
       "            + ' to learn more about interactive tables.';\n",
       "          element.innerHTML = '';\n",
       "          dataTable['output_type'] = 'display_data';\n",
       "          await google.colab.output.renderOutput(dataTable, element);\n",
       "          const docLink = document.createElement('div');\n",
       "          docLink.innerHTML = docLinkHtml;\n",
       "          element.appendChild(docLink);\n",
       "        }\n",
       "      </script>\n",
       "    </div>\n",
       "  </div>\n",
       "  "
      ]
     },
     "metadata": {},
     "execution_count": 21
    }
   ]
  },
  {
   "cell_type": "code",
   "source": [
    "dfImage['snr'].describe()\n"
   ],
   "metadata": {
    "colab": {
     "base_uri": "https://localhost:8080/"
    },
    "id": "RksmDtIT9sn6",
    "outputId": "c703ad28-0997-4fd8-e2ce-4be14af7352b",
    "pycharm": {
     "name": "#%%\n"
    }
   },
   "execution_count": null,
   "outputs": [
    {
     "output_type": "execute_result",
     "data": {
      "text/plain": [
       "count         2,095,878.0000\n",
       "mean                 24.0065\n",
       "std                  11.7871\n",
       "min                   3.0189\n",
       "25%                  17.4098\n",
       "50%                  22.7041\n",
       "75%                  28.9502\n",
       "max                 673.5632\n",
       "Name: snr, dtype: float64"
      ]
     },
     "metadata": {},
     "execution_count": 26
    }
   ]
  },
  {
   "cell_type": "code",
   "source": [
    "sns.histplot(data=dfImage, x='snr')\n",
    "plt.figure(figsize=(12, 8))\n",
    "sns.histplot(data=dfImage, x='bnx_snr', binrange=(0,2000), color='orange')\n",
    "gfg = sns.histplot(data=dfImage, x='snr', binrange=(0,2000))\n",
    "gfg.set(xlabel =\"SNR značky\", ylabel = \"Počet značek\")\n",
    "plt.show()"
   ],
   "metadata": {
    "colab": {
     "base_uri": "https://localhost:8080/",
     "height": 759
    },
    "id": "V6PnjSXLAJxM",
    "outputId": "1f7f328f-7910-46d7-e850-7a42ea13805e",
    "pycharm": {
     "name": "#%%\n"
    }
   },
   "execution_count": null,
   "outputs": [
    {
     "output_type": "display_data",
     "data": {
      "text/plain": [
       "<Figure size 432x288 with 1 Axes>"
      ],
      "image/png": "[encoded data removed]"
     },
     "metadata": {
      "needs_background": "light"
     }
    },
    {
     "output_type": "display_data",
     "data": {
      "text/plain": [
       "<Figure size 864x576 with 1 Axes>"
      ],
      "image/png": "[encoded data removed]"
     },
     "metadata": {
      "needs_background": "light"
     }
    }
   ]
  },
  {
   "cell_type": "code",
   "source": [
    "dfImage['deviation'].describe()"
   ],
   "metadata": {
    "colab": {
     "base_uri": "https://localhost:8080/"
    },
    "id": "80VTnTMj-Cnq",
    "outputId": "f9eec981-0411-460c-faec-3d8fefd86751",
    "pycharm": {
     "name": "#%%\n"
    }
   },
   "execution_count": null,
   "outputs": [
    {
     "output_type": "execute_result",
     "data": {
      "text/plain": [
       "count         2,095,878.0000\n",
       "mean                 21.7580\n",
       "std                   1.3623\n",
       "min                  17.9536\n",
       "25%                  20.8504\n",
       "50%                  21.4297\n",
       "75%                  22.3425\n",
       "max                  27.6379\n",
       "Name: deviation, dtype: float64"
      ]
     },
     "metadata": {},
     "execution_count": 27
    }
   ]
  },
  {
   "cell_type": "markdown",
   "source": [
    "# **Validity checker**"
   ],
   "metadata": {
    "id": "zUbTqwuaWUM1",
    "pycharm": {
     "name": "#%% md\n"
    }
   }
  },
  {
   "cell_type": "markdown",
   "source": [
    "**File to image**"
   ],
   "metadata": {
    "id": "l9qpo2XStFJB",
    "pycharm": {
     "name": "#%% md\n"
    }
   }
  },
  {
   "cell_type": "code",
   "source": [
    "dfBNXtoImage = pd.read_csv('/content/drive/MyDrive/Colab Notebooks/diplomka/results_scan1')\n",
    "dfBNXtoImage.rename(columns={\" filteredValue\": \"filteredValue\", \" incorrect\": \"incorrect\", \" line\": \"line\", \" surroundings\": \"surroundings\"}, inplace=True)\n",
    "dfBNXtoImage['percentage'] =dfBNXtoImage['correct'] / (dfBNXtoImage['correct'] + dfBNXtoImage['incorrect'] )\n",
    "dfBNXtoImage.drop(dfBNXtoImage.loc[(dfBNXtoImage['centerRadius'] == 1) & (dfBNXtoImage['surroundings'] == 1)].index, inplace=True)"
   ],
   "metadata": {
    "id": "MQTBPf3EWSs2",
    "pycharm": {
     "name": "#%%\n"
    }
   },
   "execution_count": null,
   "outputs": []
  },
  {
   "cell_type": "code",
   "source": [
    "dfBNXtoImage"
   ],
   "metadata": {
    "colab": {
     "base_uri": "https://localhost:8080/",
     "height": 424
    },
    "id": "mWPu5dIQWzvt",
    "outputId": "1f7d6480-13f8-4bf4-c335-927ad7ca2258",
    "pycharm": {
     "name": "#%%\n"
    }
   },
   "execution_count": null,
   "outputs": [
    {
     "output_type": "execute_result",
     "data": {
      "text/plain": [
       "     correct  incorrect  filteredValue  surroundings   line  centerRadius  \\\n",
       "1      15075        655              0             2  False             1   \n",
       "2      14327       1403              0             3  False             1   \n",
       "4      15053        677              0             2   True             1   \n",
       "5      14300       1430              0             3   True             1   \n",
       "7      15075        655            100             2  False             1   \n",
       "..       ...        ...            ...           ...    ...           ...   \n",
       "127      501        163           1000             2  False             0   \n",
       "128      497        167           1000             3  False             0   \n",
       "129      375        226           1000             1   True             0   \n",
       "130      374        227           1000             2   True             0   \n",
       "131      371        230           1000             3   True             0   \n",
       "\n",
       "     percentage  \n",
       "1      0.958360  \n",
       "2      0.910807  \n",
       "4      0.956961  \n",
       "5      0.909091  \n",
       "7      0.958360  \n",
       "..          ...  \n",
       "127    0.754518  \n",
       "128    0.748494  \n",
       "129    0.623960  \n",
       "130    0.622296  \n",
       "131    0.617304  \n",
       "\n",
       "[110 rows x 7 columns]"
      ],
      "text/html": [
       "\n",
       "  <div id=\"df-6ef0632c-14dd-4319-98c2-9fe94ffa1288\">\n",
       "    <div class=\"colab-df-container\">\n",
       "      <div>\n",
       "<style scoped>\n",
       "    .dataframe tbody tr th:only-of-type {\n",
       "        vertical-align: middle;\n",
       "    }\n",
       "\n",
       "    .dataframe tbody tr th {\n",
       "        vertical-align: top;\n",
       "    }\n",
       "\n",
       "    .dataframe thead th {\n",
       "        text-align: right;\n",
       "    }\n",
       "</style>\n",
       "<table border=\"1\" class=\"dataframe\">\n",
       "  <thead>\n",
       "    <tr style=\"text-align: right;\">\n",
       "      <th></th>\n",
       "      <th>correct</th>\n",
       "      <th>incorrect</th>\n",
       "      <th>filteredValue</th>\n",
       "      <th>surroundings</th>\n",
       "      <th>line</th>\n",
       "      <th>centerRadius</th>\n",
       "      <th>percentage</th>\n",
       "    </tr>\n",
       "  </thead>\n",
       "  <tbody>\n",
       "    <tr>\n",
       "      <th>1</th>\n",
       "      <td>15075</td>\n",
       "      <td>655</td>\n",
       "      <td>0</td>\n",
       "      <td>2</td>\n",
       "      <td>False</td>\n",
       "      <td>1</td>\n",
       "      <td>0.958360</td>\n",
       "    </tr>\n",
       "    <tr>\n",
       "      <th>2</th>\n",
       "      <td>14327</td>\n",
       "      <td>1403</td>\n",
       "      <td>0</td>\n",
       "      <td>3</td>\n",
       "      <td>False</td>\n",
       "      <td>1</td>\n",
       "      <td>0.910807</td>\n",
       "    </tr>\n",
       "    <tr>\n",
       "      <th>4</th>\n",
       "      <td>15053</td>\n",
       "      <td>677</td>\n",
       "      <td>0</td>\n",
       "      <td>2</td>\n",
       "      <td>True</td>\n",
       "      <td>1</td>\n",
       "      <td>0.956961</td>\n",
       "    </tr>\n",
       "    <tr>\n",
       "      <th>5</th>\n",
       "      <td>14300</td>\n",
       "      <td>1430</td>\n",
       "      <td>0</td>\n",
       "      <td>3</td>\n",
       "      <td>True</td>\n",
       "      <td>1</td>\n",
       "      <td>0.909091</td>\n",
       "    </tr>\n",
       "    <tr>\n",
       "      <th>7</th>\n",
       "      <td>15075</td>\n",
       "      <td>655</td>\n",
       "      <td>100</td>\n",
       "      <td>2</td>\n",
       "      <td>False</td>\n",
       "      <td>1</td>\n",
       "      <td>0.958360</td>\n",
       "    </tr>\n",
       "    <tr>\n",
       "      <th>...</th>\n",
       "      <td>...</td>\n",
       "      <td>...</td>\n",
       "      <td>...</td>\n",
       "      <td>...</td>\n",
       "      <td>...</td>\n",
       "      <td>...</td>\n",
       "      <td>...</td>\n",
       "    </tr>\n",
       "    <tr>\n",
       "      <th>127</th>\n",
       "      <td>501</td>\n",
       "      <td>163</td>\n",
       "      <td>1000</td>\n",
       "      <td>2</td>\n",
       "      <td>False</td>\n",
       "      <td>0</td>\n",
       "      <td>0.754518</td>\n",
       "    </tr>\n",
       "    <tr>\n",
       "      <th>128</th>\n",
       "      <td>497</td>\n",
       "      <td>167</td>\n",
       "      <td>1000</td>\n",
       "      <td>3</td>\n",
       "      <td>False</td>\n",
       "      <td>0</td>\n",
       "      <td>0.748494</td>\n",
       "    </tr>\n",
       "    <tr>\n",
       "      <th>129</th>\n",
       "      <td>375</td>\n",
       "      <td>226</td>\n",
       "      <td>1000</td>\n",
       "      <td>1</td>\n",
       "      <td>True</td>\n",
       "      <td>0</td>\n",
       "      <td>0.623960</td>\n",
       "    </tr>\n",
       "    <tr>\n",
       "      <th>130</th>\n",
       "      <td>374</td>\n",
       "      <td>227</td>\n",
       "      <td>1000</td>\n",
       "      <td>2</td>\n",
       "      <td>True</td>\n",
       "      <td>0</td>\n",
       "      <td>0.622296</td>\n",
       "    </tr>\n",
       "    <tr>\n",
       "      <th>131</th>\n",
       "      <td>371</td>\n",
       "      <td>230</td>\n",
       "      <td>1000</td>\n",
       "      <td>3</td>\n",
       "      <td>True</td>\n",
       "      <td>0</td>\n",
       "      <td>0.617304</td>\n",
       "    </tr>\n",
       "  </tbody>\n",
       "</table>\n",
       "<p>110 rows × 7 columns</p>\n",
       "</div>\n",
       "      <button class=\"colab-df-convert\" onclick=\"convertToInteractive('df-6ef0632c-14dd-4319-98c2-9fe94ffa1288')\"\n",
       "              title=\"Convert this dataframe to an interactive table.\"\n",
       "              style=\"display:none;\">\n",
       "        \n",
       "  <svg xmlns=\"http://www.w3.org/2000/svg\" height=\"24px\"viewBox=\"0 0 24 24\"\n",
       "       width=\"24px\">\n",
       "    <path d=\"M0 0h24v24H0V0z\" fill=\"none\"/>\n",
       "    <path d=\"M18.56 5.44l.94 2.06.94-2.06 2.06-.94-2.06-.94-.94-2.06-.94 2.06-2.06.94zm-11 1L8.5 8.5l.94-2.06 2.06-.94-2.06-.94L8.5 2.5l-.94 2.06-2.06.94zm10 10l.94 2.06.94-2.06 2.06-.94-2.06-.94-.94-2.06-.94 2.06-2.06.94z\"/><path d=\"M17.41 7.96l-1.37-1.37c-.4-.4-.92-.59-1.43-.59-.52 0-1.04.2-1.43.59L10.3 9.45l-7.72 7.72c-.78.78-.78 2.05 0 2.83L4 21.41c.39.39.9.59 1.41.59.51 0 1.02-.2 1.41-.59l7.78-7.78 2.81-2.81c.8-.78.8-2.07 0-2.86zM5.41 20L4 18.59l7.72-7.72 1.47 1.35L5.41 20z\"/>\n",
       "  </svg>\n",
       "      </button>\n",
       "      \n",
       "  <style>\n",
       "    .colab-df-container {\n",
       "      display:flex;\n",
       "      flex-wrap:wrap;\n",
       "      gap: 12px;\n",
       "    }\n",
       "\n",
       "    .colab-df-convert {\n",
       "      background-color: #E8F0FE;\n",
       "      border: none;\n",
       "      border-radius: 50%;\n",
       "      cursor: pointer;\n",
       "      display: none;\n",
       "      fill: #1967D2;\n",
       "      height: 32px;\n",
       "      padding: 0 0 0 0;\n",
       "      width: 32px;\n",
       "    }\n",
       "\n",
       "    .colab-df-convert:hover {\n",
       "      background-color: #E2EBFA;\n",
       "      box-shadow: 0px 1px 2px rgba(60, 64, 67, 0.3), 0px 1px 3px 1px rgba(60, 64, 67, 0.15);\n",
       "      fill: #174EA6;\n",
       "    }\n",
       "\n",
       "    [theme=dark] .colab-df-convert {\n",
       "      background-color: #3B4455;\n",
       "      fill: #D2E3FC;\n",
       "    }\n",
       "\n",
       "    [theme=dark] .colab-df-convert:hover {\n",
       "      background-color: #434B5C;\n",
       "      box-shadow: 0px 1px 3px 1px rgba(0, 0, 0, 0.15);\n",
       "      filter: drop-shadow(0px 1px 2px rgba(0, 0, 0, 0.3));\n",
       "      fill: #FFFFFF;\n",
       "    }\n",
       "  </style>\n",
       "\n",
       "      <script>\n",
       "        const buttonEl =\n",
       "          document.querySelector('#df-6ef0632c-14dd-4319-98c2-9fe94ffa1288 button.colab-df-convert');\n",
       "        buttonEl.style.display =\n",
       "          google.colab.kernel.accessAllowed ? 'block' : 'none';\n",
       "\n",
       "        async function convertToInteractive(key) {\n",
       "          const element = document.querySelector('#df-6ef0632c-14dd-4319-98c2-9fe94ffa1288');\n",
       "          const dataTable =\n",
       "            await google.colab.kernel.invokeFunction('convertToInteractive',\n",
       "                                                     [key], {});\n",
       "          if (!dataTable) return;\n",
       "\n",
       "          const docLinkHtml = 'Like what you see? Visit the ' +\n",
       "            '<a target=\"_blank\" href=https://colab.research.google.com/notebooks/data_table.ipynb>data table notebook</a>'\n",
       "            + ' to learn more about interactive tables.';\n",
       "          element.innerHTML = '';\n",
       "          dataTable['output_type'] = 'display_data';\n",
       "          await google.colab.output.renderOutput(dataTable, element);\n",
       "          const docLink = document.createElement('div');\n",
       "          docLink.innerHTML = docLinkHtml;\n",
       "          element.appendChild(docLink);\n",
       "        }\n",
       "      </script>\n",
       "    </div>\n",
       "  </div>\n",
       "  "
      ]
     },
     "metadata": {},
     "execution_count": 33
    }
   ]
  },
  {
   "cell_type": "code",
   "source": [
    "dfBNXtoImage.loc[dfBNXtoImage['centerRadius'] == 1].describe()"
   ],
   "metadata": {
    "colab": {
     "base_uri": "https://localhost:8080/",
     "height": 300
    },
    "id": "boxBSxqIJ1gN",
    "outputId": "3de41a19-bb1a-4785-c7ad-67c8bb96b808",
    "pycharm": {
     "name": "#%%\n"
    }
   },
   "execution_count": null,
   "outputs": [
    {
     "output_type": "execute_result",
     "data": {
      "text/plain": [
       "            correct    incorrect  filteredValue  surroundings  centerRadius  \\\n",
       "count     44.000000    44.000000        44.0000     44.000000          44.0   \n",
       "mean    8296.863636   502.409091       500.0000      2.500000           1.0   \n",
       "std     5890.830986   503.861661       319.8837      0.505781           0.0   \n",
       "min      584.000000    10.000000         0.0000      2.000000           1.0   \n",
       "25%     1768.750000    55.500000       200.0000      2.000000           1.0   \n",
       "50%     8740.000000   341.000000       500.0000      2.500000           1.0   \n",
       "75%    14306.750000   677.000000       800.0000      3.000000           1.0   \n",
       "max    15075.000000  1430.000000      1000.0000      3.000000           1.0   \n",
       "\n",
       "       percentage  \n",
       "count   44.000000  \n",
       "mean     0.955222  \n",
       "std      0.025016  \n",
       "min      0.909091  \n",
       "25%      0.938967  \n",
       "50%      0.961530  \n",
       "75%      0.973674  \n",
       "max      0.983361  "
      ],
      "text/html": [
       "\n",
       "  <div id=\"df-23b8a276-24d4-4027-a699-c00b5827befc\">\n",
       "    <div class=\"colab-df-container\">\n",
       "      <div>\n",
       "<style scoped>\n",
       "    .dataframe tbody tr th:only-of-type {\n",
       "        vertical-align: middle;\n",
       "    }\n",
       "\n",
       "    .dataframe tbody tr th {\n",
       "        vertical-align: top;\n",
       "    }\n",
       "\n",
       "    .dataframe thead th {\n",
       "        text-align: right;\n",
       "    }\n",
       "</style>\n",
       "<table border=\"1\" class=\"dataframe\">\n",
       "  <thead>\n",
       "    <tr style=\"text-align: right;\">\n",
       "      <th></th>\n",
       "      <th>correct</th>\n",
       "      <th>incorrect</th>\n",
       "      <th>filteredValue</th>\n",
       "      <th>surroundings</th>\n",
       "      <th>centerRadius</th>\n",
       "      <th>percentage</th>\n",
       "    </tr>\n",
       "  </thead>\n",
       "  <tbody>\n",
       "    <tr>\n",
       "      <th>count</th>\n",
       "      <td>44.000000</td>\n",
       "      <td>44.000000</td>\n",
       "      <td>44.0000</td>\n",
       "      <td>44.000000</td>\n",
       "      <td>44.0</td>\n",
       "      <td>44.000000</td>\n",
       "    </tr>\n",
       "    <tr>\n",
       "      <th>mean</th>\n",
       "      <td>8296.863636</td>\n",
       "      <td>502.409091</td>\n",
       "      <td>500.0000</td>\n",
       "      <td>2.500000</td>\n",
       "      <td>1.0</td>\n",
       "      <td>0.955222</td>\n",
       "    </tr>\n",
       "    <tr>\n",
       "      <th>std</th>\n",
       "      <td>5890.830986</td>\n",
       "      <td>503.861661</td>\n",
       "      <td>319.8837</td>\n",
       "      <td>0.505781</td>\n",
       "      <td>0.0</td>\n",
       "      <td>0.025016</td>\n",
       "    </tr>\n",
       "    <tr>\n",
       "      <th>min</th>\n",
       "      <td>584.000000</td>\n",
       "      <td>10.000000</td>\n",
       "      <td>0.0000</td>\n",
       "      <td>2.000000</td>\n",
       "      <td>1.0</td>\n",
       "      <td>0.909091</td>\n",
       "    </tr>\n",
       "    <tr>\n",
       "      <th>25%</th>\n",
       "      <td>1768.750000</td>\n",
       "      <td>55.500000</td>\n",
       "      <td>200.0000</td>\n",
       "      <td>2.000000</td>\n",
       "      <td>1.0</td>\n",
       "      <td>0.938967</td>\n",
       "    </tr>\n",
       "    <tr>\n",
       "      <th>50%</th>\n",
       "      <td>8740.000000</td>\n",
       "      <td>341.000000</td>\n",
       "      <td>500.0000</td>\n",
       "      <td>2.500000</td>\n",
       "      <td>1.0</td>\n",
       "      <td>0.961530</td>\n",
       "    </tr>\n",
       "    <tr>\n",
       "      <th>75%</th>\n",
       "      <td>14306.750000</td>\n",
       "      <td>677.000000</td>\n",
       "      <td>800.0000</td>\n",
       "      <td>3.000000</td>\n",
       "      <td>1.0</td>\n",
       "      <td>0.973674</td>\n",
       "    </tr>\n",
       "    <tr>\n",
       "      <th>max</th>\n",
       "      <td>15075.000000</td>\n",
       "      <td>1430.000000</td>\n",
       "      <td>1000.0000</td>\n",
       "      <td>3.000000</td>\n",
       "      <td>1.0</td>\n",
       "      <td>0.983361</td>\n",
       "    </tr>\n",
       "  </tbody>\n",
       "</table>\n",
       "</div>\n",
       "      <button class=\"colab-df-convert\" onclick=\"convertToInteractive('df-23b8a276-24d4-4027-a699-c00b5827befc')\"\n",
       "              title=\"Convert this dataframe to an interactive table.\"\n",
       "              style=\"display:none;\">\n",
       "        \n",
       "  <svg xmlns=\"http://www.w3.org/2000/svg\" height=\"24px\"viewBox=\"0 0 24 24\"\n",
       "       width=\"24px\">\n",
       "    <path d=\"M0 0h24v24H0V0z\" fill=\"none\"/>\n",
       "    <path d=\"M18.56 5.44l.94 2.06.94-2.06 2.06-.94-2.06-.94-.94-2.06-.94 2.06-2.06.94zm-11 1L8.5 8.5l.94-2.06 2.06-.94-2.06-.94L8.5 2.5l-.94 2.06-2.06.94zm10 10l.94 2.06.94-2.06 2.06-.94-2.06-.94-.94-2.06-.94 2.06-2.06.94z\"/><path d=\"M17.41 7.96l-1.37-1.37c-.4-.4-.92-.59-1.43-.59-.52 0-1.04.2-1.43.59L10.3 9.45l-7.72 7.72c-.78.78-.78 2.05 0 2.83L4 21.41c.39.39.9.59 1.41.59.51 0 1.02-.2 1.41-.59l7.78-7.78 2.81-2.81c.8-.78.8-2.07 0-2.86zM5.41 20L4 18.59l7.72-7.72 1.47 1.35L5.41 20z\"/>\n",
       "  </svg>\n",
       "      </button>\n",
       "      \n",
       "  <style>\n",
       "    .colab-df-container {\n",
       "      display:flex;\n",
       "      flex-wrap:wrap;\n",
       "      gap: 12px;\n",
       "    }\n",
       "\n",
       "    .colab-df-convert {\n",
       "      background-color: #E8F0FE;\n",
       "      border: none;\n",
       "      border-radius: 50%;\n",
       "      cursor: pointer;\n",
       "      display: none;\n",
       "      fill: #1967D2;\n",
       "      height: 32px;\n",
       "      padding: 0 0 0 0;\n",
       "      width: 32px;\n",
       "    }\n",
       "\n",
       "    .colab-df-convert:hover {\n",
       "      background-color: #E2EBFA;\n",
       "      box-shadow: 0px 1px 2px rgba(60, 64, 67, 0.3), 0px 1px 3px 1px rgba(60, 64, 67, 0.15);\n",
       "      fill: #174EA6;\n",
       "    }\n",
       "\n",
       "    [theme=dark] .colab-df-convert {\n",
       "      background-color: #3B4455;\n",
       "      fill: #D2E3FC;\n",
       "    }\n",
       "\n",
       "    [theme=dark] .colab-df-convert:hover {\n",
       "      background-color: #434B5C;\n",
       "      box-shadow: 0px 1px 3px 1px rgba(0, 0, 0, 0.15);\n",
       "      filter: drop-shadow(0px 1px 2px rgba(0, 0, 0, 0.3));\n",
       "      fill: #FFFFFF;\n",
       "    }\n",
       "  </style>\n",
       "\n",
       "      <script>\n",
       "        const buttonEl =\n",
       "          document.querySelector('#df-23b8a276-24d4-4027-a699-c00b5827befc button.colab-df-convert');\n",
       "        buttonEl.style.display =\n",
       "          google.colab.kernel.accessAllowed ? 'block' : 'none';\n",
       "\n",
       "        async function convertToInteractive(key) {\n",
       "          const element = document.querySelector('#df-23b8a276-24d4-4027-a699-c00b5827befc');\n",
       "          const dataTable =\n",
       "            await google.colab.kernel.invokeFunction('convertToInteractive',\n",
       "                                                     [key], {});\n",
       "          if (!dataTable) return;\n",
       "\n",
       "          const docLinkHtml = 'Like what you see? Visit the ' +\n",
       "            '<a target=\"_blank\" href=https://colab.research.google.com/notebooks/data_table.ipynb>data table notebook</a>'\n",
       "            + ' to learn more about interactive tables.';\n",
       "          element.innerHTML = '';\n",
       "          dataTable['output_type'] = 'display_data';\n",
       "          await google.colab.output.renderOutput(dataTable, element);\n",
       "          const docLink = document.createElement('div');\n",
       "          docLink.innerHTML = docLinkHtml;\n",
       "          element.appendChild(docLink);\n",
       "        }\n",
       "      </script>\n",
       "    </div>\n",
       "  </div>\n",
       "  "
      ]
     },
     "metadata": {},
     "execution_count": 54
    }
   ]
  },
  {
   "cell_type": "code",
   "source": [
    "line_style_dict = {0: (1, 0), 1:  (2, 4)}\n",
    "plt.figure(figsize=(12, 8))\n",
    "gfg = sns.lineplot(y='percentage', x='filteredValue', hue='line', style='centerRadius', dashes=line_style_dict, data=dfBNXtoImage)\n",
    "gfg.set(xlabel =\"Filtrovaná dolní mez\", ylabel = \"Přesnost\")\n",
    "plt.show()"
   ],
   "metadata": {
    "colab": {
     "base_uri": "https://localhost:8080/",
     "height": 497
    },
    "id": "-V0NNSyjLcz1",
    "outputId": "5db72c40-1a14-42c4-8e5b-1f5dc7d18a72",
    "pycharm": {
     "name": "#%%\n"
    }
   },
   "execution_count": null,
   "outputs": [
    {
     "output_type": "display_data",
     "data": {
      "text/plain": [
       "<Figure size 864x576 with 1 Axes>"
      ],
      "image/png": "[encoded data removed]"
     },
     "metadata": {
      "needs_background": "light"
     }
    }
   ]
  },
  {
   "cell_type": "code",
   "source": [
    "sns.lineplot(y='percentage', x='filteredValue', hue='line', data=dfBNXtoImage.loc[dfBNXtoImage['centerRadius'] == 0 ])"
   ],
   "metadata": {
    "colab": {
     "base_uri": "https://localhost:8080/",
     "height": 297
    },
    "id": "HqXYDOxskWTo",
    "outputId": "5e2d3c7a-1173-42c5-c9b4-af29da210210",
    "pycharm": {
     "name": "#%%\n"
    }
   },
   "execution_count": null,
   "outputs": [
    {
     "output_type": "execute_result",
     "data": {
      "text/plain": [
       "<AxesSubplot:xlabel='filteredValue', ylabel='percentage'>"
      ]
     },
     "metadata": {},
     "execution_count": 7
    },
    {
     "output_type": "display_data",
     "data": {
      "text/plain": [
       "<Figure size 432x288 with 1 Axes>"
      ],
      "image/png": "[encoded data removed]"
     },
     "metadata": {
      "needs_background": "light"
     }
    }
   ]
  },
  {
   "cell_type": "code",
   "source": [
    "sns.lineplot(y='percentage', x='filteredValue', hue='line', data=dfBNXtoImage.loc[(dfBNXtoImage['centerRadius'] == 1) | (dfBNXtoImage['surroundings']>1) ])"
   ],
   "metadata": {
    "colab": {
     "base_uri": "https://localhost:8080/",
     "height": 297
    },
    "id": "Ht353yxQI9s0",
    "outputId": "4dd3f2e5-204a-43d2-bc5e-598ff7e6a046",
    "pycharm": {
     "name": "#%%\n"
    }
   },
   "execution_count": null,
   "outputs": [
    {
     "output_type": "execute_result",
     "data": {
      "text/plain": [
       "<AxesSubplot:xlabel='filteredValue', ylabel='percentage'>"
      ]
     },
     "metadata": {},
     "execution_count": 13
    },
    {
     "output_type": "display_data",
     "data": {
      "text/plain": [
       "<Figure size 432x288 with 1 Axes>"
      ],
      "image/png": "[encoded data removed]"
     },
     "metadata": {
      "needs_background": "light"
     }
    }
   ]
  },
  {
   "cell_type": "code",
   "source": [
    "plt.figure(figsize=(12, 8))\n",
    "gfg = sns.heatmap(dfBNXtoImage.loc[(dfBNXtoImage['centerRadius'] == 0) & (dfBNXtoImage['line'] == 0)].pivot_table(index='surroundings', columns='filteredValue', values='percentage', fill_value=0), cmap='Blues', annot=True, fmt='.4g')\n",
    "gfg.set(xlabel =\"Filtrovaná dolní mez\", ylabel = \"Velikost okolí\")\n",
    "gfg.xaxis.label.set_fontsize(14)\n",
    "gfg.yaxis.label.set_fontsize(14)\n",
    "gfg.tick_params(axis='both', which='major', labelsize=14)\n",
    "plt.show()"
   ],
   "metadata": {
    "colab": {
     "base_uri": "https://localhost:8080/",
     "height": 505
    },
    "id": "zaPFrJjJrLKX",
    "outputId": "522b100a-dbc8-4af4-e377-f14a64820d33",
    "pycharm": {
     "name": "#%%\n"
    }
   },
   "execution_count": null,
   "outputs": [
    {
     "output_type": "display_data",
     "data": {
      "text/plain": [
       "<Figure size 864x576 with 2 Axes>"
      ],
      "image/png": "[encoded data removed]"
     },
     "metadata": {
      "needs_background": "light"
     }
    }
   ]
  },
  {
   "cell_type": "markdown",
   "source": [
    "**Image to file**"
   ],
   "metadata": {
    "id": "cXZuuSPVtHT_",
    "pycharm": {
     "name": "#%% md\n"
    }
   }
  },
  {
   "cell_type": "code",
   "source": [
    "#counts for each filter value from defined sample\n",
    "bnxMarksCounts = {\n",
    "    0:20974\n",
    "    ,100:20974\n",
    "    ,200:18201\n",
    "    ,300:16526\n",
    "    ,400:13589\n",
    "    ,500:9188\n",
    "    ,600:5417\n",
    "    ,700:2997\n",
    "    ,800:1679\n",
    "    ,900:973\n",
    "    ,1000:609\n",
    "}"
   ],
   "metadata": {
    "id": "HA9eGVYwkegN",
    "pycharm": {
     "name": "#%%\n"
    }
   },
   "execution_count": null,
   "outputs": []
  },
  {
   "cell_type": "code",
   "source": [
    "dfImageToBNX = pd.read_csv('/content/drive/MyDrive/Colab Notebooks/diplomka/results_imageToFileCoords_scan1')\n",
    "dfImageToBNX['BNXmarksCount'] = dfImageToBNX['filteredValue'].map(bnxMarksCounts)\n",
    "dfImageToBNX['precision'] =dfImageToBNX['correct'] / (dfImageToBNX['correct'] + dfImageToBNX['incorrect'] )\n",
    "dfImageToBNX['sensitivity'] =dfImageToBNX['correct'] / dfImageToBNX['BNXmarksCount']"
   ],
   "metadata": {
    "id": "Qa37ga_WtRlw",
    "pycharm": {
     "name": "#%%\n"
    }
   },
   "execution_count": null,
   "outputs": []
  },
  {
   "cell_type": "code",
   "source": [
    "dfImageToBNX"
   ],
   "metadata": {
    "colab": {
     "base_uri": "https://localhost:8080/",
     "height": 423
    },
    "id": "99RohfoQzUpb",
    "outputId": "acb70c9d-1377-405e-e0b5-0593904d9572",
    "pycharm": {
     "name": "#%%\n"
    }
   },
   "execution_count": null,
   "outputs": [
    {
     "output_type": "execute_result",
     "data": {
      "text/plain": [
       "    correct  incorrect  filteredValue  surroundings   line  BNXmarksCount  \\\n",
       "0     13140     126140              0             1  False          20974   \n",
       "1     12747      71379              0             2  False          20974   \n",
       "2     12281      48464              0             3  False          20974   \n",
       "3     13140     126140            100             1  False          20974   \n",
       "4     12747      71379            100             2  False          20974   \n",
       "..      ...        ...            ...           ...    ...            ...   \n",
       "61      577        164            900             2   True            973   \n",
       "62      573        161            900             3   True            973   \n",
       "63      379        114           1000             1   True            609   \n",
       "64      378        101           1000             2   True            609   \n",
       "65      375         99           1000             3   True            609   \n",
       "\n",
       "    precision  sensitivity  \n",
       "0    0.094342     0.626490  \n",
       "1    0.151523     0.607752  \n",
       "2    0.202173     0.585534  \n",
       "3    0.094342     0.626490  \n",
       "4    0.151523     0.607752  \n",
       "..        ...          ...  \n",
       "61   0.778677     0.593011  \n",
       "62   0.780654     0.588900  \n",
       "63   0.768763     0.622332  \n",
       "64   0.789144     0.620690  \n",
       "65   0.791139     0.615764  \n",
       "\n",
       "[66 rows x 8 columns]"
      ],
      "text/html": [
       "\n",
       "  <div id=\"df-5c607d15-0333-48d8-8fc4-c2b5935c4b82\">\n",
       "    <div class=\"colab-df-container\">\n",
       "      <div>\n",
       "<style scoped>\n",
       "    .dataframe tbody tr th:only-of-type {\n",
       "        vertical-align: middle;\n",
       "    }\n",
       "\n",
       "    .dataframe tbody tr th {\n",
       "        vertical-align: top;\n",
       "    }\n",
       "\n",
       "    .dataframe thead th {\n",
       "        text-align: right;\n",
       "    }\n",
       "</style>\n",
       "<table border=\"1\" class=\"dataframe\">\n",
       "  <thead>\n",
       "    <tr style=\"text-align: right;\">\n",
       "      <th></th>\n",
       "      <th>correct</th>\n",
       "      <th>incorrect</th>\n",
       "      <th>filteredValue</th>\n",
       "      <th>surroundings</th>\n",
       "      <th>line</th>\n",
       "      <th>BNXmarksCount</th>\n",
       "      <th>precision</th>\n",
       "      <th>sensitivity</th>\n",
       "    </tr>\n",
       "  </thead>\n",
       "  <tbody>\n",
       "    <tr>\n",
       "      <th>0</th>\n",
       "      <td>13140</td>\n",
       "      <td>126140</td>\n",
       "      <td>0</td>\n",
       "      <td>1</td>\n",
       "      <td>False</td>\n",
       "      <td>20974</td>\n",
       "      <td>0.094342</td>\n",
       "      <td>0.626490</td>\n",
       "    </tr>\n",
       "    <tr>\n",
       "      <th>1</th>\n",
       "      <td>12747</td>\n",
       "      <td>71379</td>\n",
       "      <td>0</td>\n",
       "      <td>2</td>\n",
       "      <td>False</td>\n",
       "      <td>20974</td>\n",
       "      <td>0.151523</td>\n",
       "      <td>0.607752</td>\n",
       "    </tr>\n",
       "    <tr>\n",
       "      <th>2</th>\n",
       "      <td>12281</td>\n",
       "      <td>48464</td>\n",
       "      <td>0</td>\n",
       "      <td>3</td>\n",
       "      <td>False</td>\n",
       "      <td>20974</td>\n",
       "      <td>0.202173</td>\n",
       "      <td>0.585534</td>\n",
       "    </tr>\n",
       "    <tr>\n",
       "      <th>3</th>\n",
       "      <td>13140</td>\n",
       "      <td>126140</td>\n",
       "      <td>100</td>\n",
       "      <td>1</td>\n",
       "      <td>False</td>\n",
       "      <td>20974</td>\n",
       "      <td>0.094342</td>\n",
       "      <td>0.626490</td>\n",
       "    </tr>\n",
       "    <tr>\n",
       "      <th>4</th>\n",
       "      <td>12747</td>\n",
       "      <td>71379</td>\n",
       "      <td>100</td>\n",
       "      <td>2</td>\n",
       "      <td>False</td>\n",
       "      <td>20974</td>\n",
       "      <td>0.151523</td>\n",
       "      <td>0.607752</td>\n",
       "    </tr>\n",
       "    <tr>\n",
       "      <th>...</th>\n",
       "      <td>...</td>\n",
       "      <td>...</td>\n",
       "      <td>...</td>\n",
       "      <td>...</td>\n",
       "      <td>...</td>\n",
       "      <td>...</td>\n",
       "      <td>...</td>\n",
       "      <td>...</td>\n",
       "    </tr>\n",
       "    <tr>\n",
       "      <th>61</th>\n",
       "      <td>577</td>\n",
       "      <td>164</td>\n",
       "      <td>900</td>\n",
       "      <td>2</td>\n",
       "      <td>True</td>\n",
       "      <td>973</td>\n",
       "      <td>0.778677</td>\n",
       "      <td>0.593011</td>\n",
       "    </tr>\n",
       "    <tr>\n",
       "      <th>62</th>\n",
       "      <td>573</td>\n",
       "      <td>161</td>\n",
       "      <td>900</td>\n",
       "      <td>3</td>\n",
       "      <td>True</td>\n",
       "      <td>973</td>\n",
       "      <td>0.780654</td>\n",
       "      <td>0.588900</td>\n",
       "    </tr>\n",
       "    <tr>\n",
       "      <th>63</th>\n",
       "      <td>379</td>\n",
       "      <td>114</td>\n",
       "      <td>1000</td>\n",
       "      <td>1</td>\n",
       "      <td>True</td>\n",
       "      <td>609</td>\n",
       "      <td>0.768763</td>\n",
       "      <td>0.622332</td>\n",
       "    </tr>\n",
       "    <tr>\n",
       "      <th>64</th>\n",
       "      <td>378</td>\n",
       "      <td>101</td>\n",
       "      <td>1000</td>\n",
       "      <td>2</td>\n",
       "      <td>True</td>\n",
       "      <td>609</td>\n",
       "      <td>0.789144</td>\n",
       "      <td>0.620690</td>\n",
       "    </tr>\n",
       "    <tr>\n",
       "      <th>65</th>\n",
       "      <td>375</td>\n",
       "      <td>99</td>\n",
       "      <td>1000</td>\n",
       "      <td>3</td>\n",
       "      <td>True</td>\n",
       "      <td>609</td>\n",
       "      <td>0.791139</td>\n",
       "      <td>0.615764</td>\n",
       "    </tr>\n",
       "  </tbody>\n",
       "</table>\n",
       "<p>66 rows × 8 columns</p>\n",
       "</div>\n",
       "      <button class=\"colab-df-convert\" onclick=\"convertToInteractive('df-5c607d15-0333-48d8-8fc4-c2b5935c4b82')\"\n",
       "              title=\"Convert this dataframe to an interactive table.\"\n",
       "              style=\"display:none;\">\n",
       "        \n",
       "  <svg xmlns=\"http://www.w3.org/2000/svg\" height=\"24px\"viewBox=\"0 0 24 24\"\n",
       "       width=\"24px\">\n",
       "    <path d=\"M0 0h24v24H0V0z\" fill=\"none\"/>\n",
       "    <path d=\"M18.56 5.44l.94 2.06.94-2.06 2.06-.94-2.06-.94-.94-2.06-.94 2.06-2.06.94zm-11 1L8.5 8.5l.94-2.06 2.06-.94-2.06-.94L8.5 2.5l-.94 2.06-2.06.94zm10 10l.94 2.06.94-2.06 2.06-.94-2.06-.94-.94-2.06-.94 2.06-2.06.94z\"/><path d=\"M17.41 7.96l-1.37-1.37c-.4-.4-.92-.59-1.43-.59-.52 0-1.04.2-1.43.59L10.3 9.45l-7.72 7.72c-.78.78-.78 2.05 0 2.83L4 21.41c.39.39.9.59 1.41.59.51 0 1.02-.2 1.41-.59l7.78-7.78 2.81-2.81c.8-.78.8-2.07 0-2.86zM5.41 20L4 18.59l7.72-7.72 1.47 1.35L5.41 20z\"/>\n",
       "  </svg>\n",
       "      </button>\n",
       "      \n",
       "  <style>\n",
       "    .colab-df-container {\n",
       "      display:flex;\n",
       "      flex-wrap:wrap;\n",
       "      gap: 12px;\n",
       "    }\n",
       "\n",
       "    .colab-df-convert {\n",
       "      background-color: #E8F0FE;\n",
       "      border: none;\n",
       "      border-radius: 50%;\n",
       "      cursor: pointer;\n",
       "      display: none;\n",
       "      fill: #1967D2;\n",
       "      height: 32px;\n",
       "      padding: 0 0 0 0;\n",
       "      width: 32px;\n",
       "    }\n",
       "\n",
       "    .colab-df-convert:hover {\n",
       "      background-color: #E2EBFA;\n",
       "      box-shadow: 0px 1px 2px rgba(60, 64, 67, 0.3), 0px 1px 3px 1px rgba(60, 64, 67, 0.15);\n",
       "      fill: #174EA6;\n",
       "    }\n",
       "\n",
       "    [theme=dark] .colab-df-convert {\n",
       "      background-color: #3B4455;\n",
       "      fill: #D2E3FC;\n",
       "    }\n",
       "\n",
       "    [theme=dark] .colab-df-convert:hover {\n",
       "      background-color: #434B5C;\n",
       "      box-shadow: 0px 1px 3px 1px rgba(0, 0, 0, 0.15);\n",
       "      filter: drop-shadow(0px 1px 2px rgba(0, 0, 0, 0.3));\n",
       "      fill: #FFFFFF;\n",
       "    }\n",
       "  </style>\n",
       "\n",
       "      <script>\n",
       "        const buttonEl =\n",
       "          document.querySelector('#df-5c607d15-0333-48d8-8fc4-c2b5935c4b82 button.colab-df-convert');\n",
       "        buttonEl.style.display =\n",
       "          google.colab.kernel.accessAllowed ? 'block' : 'none';\n",
       "\n",
       "        async function convertToInteractive(key) {\n",
       "          const element = document.querySelector('#df-5c607d15-0333-48d8-8fc4-c2b5935c4b82');\n",
       "          const dataTable =\n",
       "            await google.colab.kernel.invokeFunction('convertToInteractive',\n",
       "                                                     [key], {});\n",
       "          if (!dataTable) return;\n",
       "\n",
       "          const docLinkHtml = 'Like what you see? Visit the ' +\n",
       "            '<a target=\"_blank\" href=https://colab.research.google.com/notebooks/data_table.ipynb>data table notebook</a>'\n",
       "            + ' to learn more about interactive tables.';\n",
       "          element.innerHTML = '';\n",
       "          dataTable['output_type'] = 'display_data';\n",
       "          await google.colab.output.renderOutput(dataTable, element);\n",
       "          const docLink = document.createElement('div');\n",
       "          docLink.innerHTML = docLinkHtml;\n",
       "          element.appendChild(docLink);\n",
       "        }\n",
       "      </script>\n",
       "    </div>\n",
       "  </div>\n",
       "  "
      ]
     },
     "metadata": {},
     "execution_count": 5
    }
   ]
  },
  {
   "cell_type": "code",
   "source": [
    "plt.figure(figsize=(12, 8))\n",
    "gfg =sns.lineplot(y='sensitivity', x='filteredValue', hue='line', data=dfImageToBNX)\n",
    "gfg.set(xlabel =\"Filtrovaná dolní mez\", ylabel = \"Senzitivita\")\n",
    "gfg.xaxis.label.set_fontsize(14)\n",
    "gfg.yaxis.label.set_fontsize(14)\n",
    "gfg.tick_params(axis='both', which='major', labelsize=12)\n",
    "plt.show()\n",
    "plt.figure(figsize=(12, 8))\n",
    "gfg = sns.lineplot(y='precision', x='filteredValue', hue='line', data=dfImageToBNX) \n",
    "plt.figure(figsize=(12, 8))\n",
    "gfg.set(xlabel =\"Filtrovaná dolní mez\", ylabel = \"Přesnost\")\n",
    "gfg.xaxis.label.set_fontsize(14)\n",
    "gfg.yaxis.label.set_fontsize(14)\n",
    "gfg.tick_params(axis='both', which='major', labelsize=12)\n",
    "plt.show()"
   ],
   "metadata": {
    "colab": {
     "base_uri": "https://localhost:8080/",
     "height": 1000
    },
    "id": "hQa_TsZDtJNT",
    "outputId": "0df4b055-1e92-4955-c727-bb0b363ba00f",
    "pycharm": {
     "name": "#%%\n"
    }
   },
   "execution_count": null,
   "outputs": [
    {
     "output_type": "display_data",
     "data": {
      "text/plain": [
       "<Figure size 864x576 with 1 Axes>"
      ],
      "image/png": "[encoded data removed]"
     },
     "metadata": {
      "needs_background": "light"
     }
    },
    {
     "output_type": "display_data",
     "data": {
      "text/plain": [
       "<Figure size 864x576 with 1 Axes>"
      ],
      "image/png": "[encoded data removed]"
     },
     "metadata": {
      "needs_background": "light"
     }
    },
    {
     "output_type": "display_data",
     "data": {
      "text/plain": [
       "<Figure size 864x576 with 0 Axes>"
      ]
     },
     "metadata": {}
    }
   ]
  },
  {
   "cell_type": "markdown",
   "source": [
    "Precision is a better metric for this case, because it takes amount of incorrect marks into account."
   ],
   "metadata": {
    "id": "mKNMwYfzqgwq",
    "pycharm": {
     "name": "#%% md\n"
    }
   }
  },
  {
   "cell_type": "code",
   "source": [
    "plt.figure(figsize=(12, 8))\n",
    "gfg = sns.heatmap(dfImageToBNX.loc[dfImageToBNX['line'] == True].pivot_table(index='surroundings', columns='filteredValue', values='precision', fill_value=0), cmap='Blues', annot=True, fmt='.4g')\n",
    "gfg.set(xlabel =\"Filtrovaná dolní mez\", ylabel = \"Velikost okolí\")\n",
    "gfg.xaxis.label.set_fontsize(14)\n",
    "gfg.yaxis.label.set_fontsize(14)\n",
    "gfg.tick_params(axis='both', which='major', labelsize=14)\n",
    "plt.show()"
   ],
   "metadata": {
    "colab": {
     "base_uri": "https://localhost:8080/",
     "height": 505
    },
    "id": "K-3hbPE-u3Xp",
    "outputId": "712a59b7-8ca6-4877-e77e-3a80632bc6ed",
    "pycharm": {
     "name": "#%%\n"
    }
   },
   "execution_count": null,
   "outputs": [
    {
     "output_type": "display_data",
     "data": {
      "text/plain": [
       "<Figure size 864x576 with 2 Axes>"
      ],
      "image/png": "[encoded data removed]"
     },
     "metadata": {
      "needs_background": "light"
     }
    }
   ]
  }
 ],
 "metadata": {
  "kernelspec": {
   "display_name": "Python 3",
   "language": "python",
   "name": "python3"
  },
  "language_info": {
   "codemirror_mode": {
    "name": "ipython",
    "version": 2
   },
   "file_extension": ".py",
   "mimetype": "text/x-python",
   "name": "python",
   "nbconvert_exporter": "python",
   "pygments_lexer": "ipython2",
   "version": "2.7.6"
  },
  "colab": {
   "provenance": []
  }
 },
 "nbformat": 4,
 "nbformat_minor": 0
}